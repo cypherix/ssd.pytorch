{
 "cells": [
  {
   "cell_type": "code",
   "execution_count": 1,
   "metadata": {},
   "outputs": [],
   "source": [
    "import torch\n",
    "from torch.autograd import Variable\n",
    "import cv2\n",
    "from data import BaseTransform, VOC_CLASSES as labelmap\n",
    "from ssd import build_ssd\n",
    "import imageio\n",
    "import matplotlib.pyplot as plt\n",
    "import time\n",
    "import numpy as np\n",
    "import sys\n",
    "from imutils.object_detection import non_max_suppression\n",
    "from imutils import paths\n",
    "import imutils\n",
    "\n",
    "%matplotlib inline"
   ]
  },
  {
   "cell_type": "code",
   "execution_count": 2,
   "metadata": {},
   "outputs": [],
   "source": [
    "device = torch.device(\"cuda\")\n",
    "if torch.cuda.is_available():\n",
    "    torch.set_default_tensor_type('torch.cuda.FloatTensor')"
   ]
  },
  {
   "cell_type": "code",
   "execution_count": 10,
   "metadata": {},
   "outputs": [],
   "source": [
    "net = build_ssd('test',300,21).cuda()\n",
    "#net.load_state_dict(torch.load('weights/ssd300_mAP_77.43_v2.pth'))\n",
    "net.load_state_dict(torch.load('weights/ssd300_VOC_500.pth'))"
   ]
  },
  {
   "cell_type": "code",
   "execution_count": 11,
   "metadata": {},
   "outputs": [],
   "source": [
    "transform = BaseTransform(net.size, (104/256.0, 117/256.0, 123/256.0))"
   ]
  },
  {
   "cell_type": "code",
   "execution_count": 12,
   "metadata": {},
   "outputs": [],
   "source": [
    "def process_image(image):\n",
    "    height, width = image.shape[:2]\n",
    "    x = torch.from_numpy(transform(image)[0]).permute(2, 0, 1)\n",
    "    x = Variable(x.unsqueeze(0).cuda())\n",
    "    \n",
    "    y = net(x)\n",
    "    \n",
    "    detections = y.data\n",
    "    scale = torch.Tensor([width, height, width, height])\n",
    "    count = 0\n",
    "    for i in range (detections.size(2)):\n",
    "        if detections[0, 15, i, 0] >= 0.4:\n",
    "            pt = (detections[0, 15, i, 1:] * scale).cpu().numpy()\n",
    "            cv2.rectangle(image, (int(pt[0]), int(pt[1])), (int(pt[2]), int(pt[3])), (255, 255, 255), 2)\n",
    "            cv2.putText(image, labelmap[14], (int(pt[0]), int(pt[1])), cv2.FONT_HERSHEY_SIMPLEX, 2, (255, 255, 255), 2, cv2.LINE_AA)        \n",
    "            count+=1\n",
    "    #print(\"Total detected people = \"+str(count))\n",
    "    return(image)"
   ]
  },
  {
   "cell_type": "code",
   "execution_count": 13,
   "metadata": {},
   "outputs": [],
   "source": [
    "def process_video(video):\n",
    "    cap = cv2.VideoCapture('test_videos/'+video)\n",
    "    if(_):\n",
    "        print(\"Video not found, Try again\")\n",
    "        return\n",
    "    fps = int(cap.get(5))\n",
    "    height, width = int(cap.get(3)), int(cap.get(4))\n",
    "    writer = cv2.VideoWriter(\"output/\"+video, cv2.VideoWriter_fourcc(*\"MJPG\"), fps,(height, width))\n",
    "    i=0\n",
    "    start = time.time()\n",
    "    while(cap.isOpened()):\n",
    "        ret, frame = cap.read()\n",
    "        if ret==True:\n",
    "            writer.write(process_image(frame))\n",
    "            cv2.imshow(\"frame\",frame)\n",
    "            fps = i/(time.time()-start)\n",
    "            print('FPS = {}'.format(fps), end='\\r')\n",
    "            i=i+1\n",
    "        else:\n",
    "            break\n",
    "        if cv2.waitKey(1) & 0xFF == ord('q'):\n",
    "            break\n",
    "    cap.release()\n",
    "    writer.release()\n",
    "    cv2.destroyAllWindows()"
   ]
  },
  {
   "cell_type": "code",
   "execution_count": 14,
   "metadata": {},
   "outputs": [],
   "source": [
    "#process_video('try.mp4')"
   ]
  },
  {
   "cell_type": "code",
   "execution_count": 15,
   "metadata": {},
   "outputs": [],
   "source": [
    "x = process_image(cv2.resize(cv2.imread('test_images/route.jpg'), (960, 540)))"
   ]
  },
  {
   "cell_type": "code",
   "execution_count": 16,
   "metadata": {},
   "outputs": [],
   "source": [
    "cv2.imshow(\"Max\",x)\n",
    "cv2.resizeWindow(\"Max\", 300,300)\n",
    "cv2.waitKey(0)\n",
    "cv2.destroyAllWindows()"
   ]
  },
  {
   "cell_type": "code",
   "execution_count": null,
   "metadata": {},
   "outputs": [],
   "source": []
  }
 ],
 "metadata": {
  "kernelspec": {
   "display_name": "Python 3",
   "language": "python",
   "name": "python3"
  },
  "language_info": {
   "codemirror_mode": {
    "name": "ipython",
    "version": 3
   },
   "file_extension": ".py",
   "mimetype": "text/x-python",
   "name": "python",
   "nbconvert_exporter": "python",
   "pygments_lexer": "ipython3",
   "version": "3.7.2"
  }
 },
 "nbformat": 4,
 "nbformat_minor": 2
}
