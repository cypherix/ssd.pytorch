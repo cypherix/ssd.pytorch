{
  "nbformat": 4,
  "nbformat_minor": 0,
  "metadata": {
    "colab": {
      "name": "train.ipynb",
      "version": "0.3.2",
      "provenance": [],
      "collapsed_sections": [],
      "include_colab_link": true
    },
    "kernelspec": {
      "name": "python3",
      "display_name": "Python 3"
    },
    "accelerator": "GPU"
  },
  "cells": [
    {
      "cell_type": "markdown",
      "metadata": {
        "id": "view-in-github",
        "colab_type": "text"
      },
      "source": [
        "<a href=\"https://colab.research.google.com/github/cypherix/ssd.pytorch/blob/master/train.ipynb\" target=\"_parent\"><img src=\"https://colab.research.google.com/assets/colab-badge.svg\" alt=\"Open In Colab\"/></a>"
      ]
    },
    {
      "metadata": {
        "id": "kG2o_MYkXsgC",
        "colab_type": "code",
        "outputId": "f77e94b1-241f-4941-8844-e271b0ca304a",
        "colab": {
          "base_uri": "https://localhost:8080/",
          "height": 34
        }
      },
      "cell_type": "code",
      "source": [
        "from google.colab import drive\n",
        "drive.mount('/content/drive')"
      ],
      "execution_count": 0,
      "outputs": [
        {
          "output_type": "stream",
          "text": [
            "Drive already mounted at /content/drive; to attempt to forcibly remount, call drive.mount(\"/content/drive\", force_remount=True).\n"
          ],
          "name": "stdout"
        }
      ]
    },
    {
      "metadata": {
        "id": "G75AQ3DsX02u",
        "colab_type": "code",
        "colab": {}
      },
      "cell_type": "code",
      "source": [
        "import os\n",
        "os.chdir('drive/My Drive/try')"
      ],
      "execution_count": 0,
      "outputs": []
    },
    {
      "metadata": {
        "id": "qr_C0BA8XjJY",
        "colab_type": "code",
        "colab": {}
      },
      "cell_type": "code",
      "source": [
        "from data import *\n",
        "from utils.augmentations import SSDAugmentation\n",
        "from layers.modules import MultiBoxLoss\n",
        "from ssd import build_ssd\n",
        "import os\n",
        "import sys\n",
        "import time\n",
        "import torch\n",
        "from torch.autograd import Variable\n",
        "import torch.nn as nn\n",
        "import torch.optim as optim\n",
        "import torch.backends.cudnn as cudnn\n",
        "import torch.nn.init as init\n",
        "import torch.utils.data as data\n",
        "import numpy as np"
      ],
      "execution_count": 0,
      "outputs": []
    },
    {
      "metadata": {
        "id": "SDz-tIAHXjJo",
        "colab_type": "code",
        "colab": {}
      },
      "cell_type": "code",
      "source": [
        "if torch.cuda.is_available():\n",
        "    torch.set_default_tensor_type('torch.cuda.FloatTensor')"
      ],
      "execution_count": 0,
      "outputs": []
    },
    {
      "metadata": {
        "id": "5gciGnEcXjJv",
        "colab_type": "code",
        "colab": {}
      },
      "cell_type": "code",
      "source": [
        "def str2bool(v):\n",
        "    return v.lower() in (\"yes\", \"true\", \"t\", \"1\")"
      ],
      "execution_count": 0,
      "outputs": []
    },
    {
      "metadata": {
        "id": "QfKQExqWXjJ2",
        "colab_type": "code",
        "colab": {}
      },
      "cell_type": "code",
      "source": [
        "cfg = pedestrian\n",
        "batch_size = 16\n",
        "gamma = 0.1\n",
        "dataset_root = VOC_ROOT\n",
        "save_folder = 'weights/'\n",
        "basenet = 'vgg16_reducedfc.pth'\n",
        "lr = 1e-4\n",
        "momentum = 0.9\n",
        "weight_decay = 5e-4"
      ],
      "execution_count": 0,
      "outputs": []
    },
    {
      "metadata": {
        "id": "EGcYUTiFXjJ6",
        "colab_type": "code",
        "colab": {}
      },
      "cell_type": "code",
      "source": [
        "def train(start_iter=0):\n",
        "    \n",
        "    #Dataset\n",
        "    dataset = VOCDetection(root = dataset_root,transform=SSDAugmentation(cfg['min_dim'], MEANS))\n",
        "    \n",
        "    #Building ssd\n",
        "    ssd_net = build_ssd('train', cfg['min_dim'], cfg['num_classes'])\n",
        "    net = ssd_net\n",
        "    \n",
        "    #Activating Cuda\n",
        "    net = torch.nn.DataParallel(ssd_net)\n",
        "    cudnn.benchmark = True\n",
        "    \n",
        "    print('Resuming training, loading {}...'.format('weights/ssd300_VOC_1000.pth'))\n",
        "    ssd_net.load_weights('weights/ssd300_VOC_'+str(start_iter)+'.pth')\n",
        "    \n",
        "    #Loading weights\n",
        "    #vgg_weights = torch.load(save_folder + basenet)\n",
        "    #print('Loading base network...')\n",
        "    #ssd_net.vgg.load_state_dict(vgg_weights)\n",
        "    #print('Initializing weights...')\n",
        "    # initialize newly added layers' weights with xavier method\n",
        "    #ssd_net.extras.apply(weights_init)\n",
        "    #ssd_net.loc.apply(weights_init)\n",
        "    #ssd_net.conf.apply(weights_init)\n",
        "    \n",
        "    net = net.cuda()\n",
        "    \n",
        "    #Loss and optimization\n",
        "    optimizer = optim.SGD(net.parameters(), lr=lr, momentum = momentum,weight_decay = weight_decay)\n",
        "    criterion = MultiBoxLoss(cfg['num_classes'], 0.5, True, 0, True, 3, 0.5,False, True)\n",
        "    \n",
        "    net.train()\n",
        "    # loss counters\n",
        "    loc_loss = 0\n",
        "    conf_loss = 0\n",
        "    epoch = 0\n",
        "    print('Loading the dataset...')\n",
        "\n",
        "    epoch_size = len(dataset) // batch_size\n",
        "    print('Training SSD on:', dataset.name)\n",
        "    \n",
        "    step_index = 0\n",
        "    \n",
        "    #Loading Dataset    \n",
        "    data_loader = data.DataLoader(dataset, batch_size, num_workers=4, shuffle=True,\n",
        "                                  collate_fn=detection_collate, pin_memory=True)\n",
        "    \n",
        "    # create batch iterator\n",
        "    batch_iterator = iter(data_loader)\n",
        "    for iteration in range(start_iter, cfg['max_iter']):\n",
        "        #if iteration in cfg['lr_steps']:\n",
        "        #    step_index += 1\n",
        "        #    adjust_learning_rate(optimizer, gamma, step_index)\n",
        "\n",
        "        # load train data\n",
        "        try:\n",
        "            images, targets = next(batch_iterator)\n",
        "        except StopIteration:\n",
        "            batch_iterator = iter(data_loader)\n",
        "            images, targets = next(batch_iterator)\n",
        "        \n",
        "        images = Variable(images.cuda())\n",
        "        with torch.no_grad():\n",
        "            targets = [Variable(ann.cuda()) for ann in targets]\n",
        "        \n",
        "        # forward\n",
        "        t0 = time.time()\n",
        "        out = net(images)\n",
        "        \n",
        "        # backprop\n",
        "        optimizer.zero_grad()\n",
        "        loss_l, loss_c = criterion(out, targets)\n",
        "        loss = loss_l + loss_c\n",
        "        loss.backward()\n",
        "        optimizer.step()\n",
        "        t1 = time.time()\n",
        "        loc_loss += loss_l.item()\n",
        "        conf_loss += loss_c.item()\n",
        "\n",
        "        if iteration % 100 == 0:\n",
        "            print('timer: %.4f sec.' % (t1 - t0))\n",
        "            print('iter ' + repr(iteration) + ' || Loss: %.4f ||' % (loss.item()), end=' ')\n",
        "\n",
        "        \n",
        "        if iteration != 0 and iteration % 1000 == 0:\n",
        "            print('\\nSaving state, iter:', iteration)\n",
        "            torch.save(ssd_net.state_dict(), 'weights/ssd300_VOC_' + repr(iteration) + '.pth')\n",
        "    \n",
        "    torch.save(ssd_net.state_dict(),\n",
        "               save_folder + 'ssd_person.pth')"
      ],
      "execution_count": 0,
      "outputs": []
    },
    {
      "metadata": {
        "id": "Ki-eqCh2XjJ-",
        "colab_type": "code",
        "colab": {}
      },
      "cell_type": "code",
      "source": [
        "def adjust_learning_rate(optimizer, gamma, step):\n",
        "    \"\"\"Sets the learning rate to the initial LR decayed by 10 at every\n",
        "        specified step\n",
        "    # Adapted from PyTorch Imagenet example:\n",
        "    # https://github.com/pytorch/examples/blob/master/imagenet/main.py\n",
        "    \"\"\"\n",
        "    lr = lr * (gamma ** (step))\n",
        "    for param_group in optimizer.param_groups:\n",
        "        param_group['lr'] = lr"
      ],
      "execution_count": 0,
      "outputs": []
    },
    {
      "metadata": {
        "id": "zFvQ7UNFXjKB",
        "colab_type": "code",
        "colab": {}
      },
      "cell_type": "code",
      "source": [
        "def xavier(param):\n",
        "    init.xavier_uniform_(param)"
      ],
      "execution_count": 0,
      "outputs": []
    },
    {
      "metadata": {
        "id": "PxHttn5zXjKF",
        "colab_type": "code",
        "colab": {}
      },
      "cell_type": "code",
      "source": [
        "def weights_init(m):\n",
        "    if isinstance(m, nn.Conv2d):\n",
        "        xavier(m.weight.data)\n",
        "        m.bias.data.zero_()"
      ],
      "execution_count": 0,
      "outputs": []
    },
    {
      "metadata": {
        "scrolled": false,
        "id": "fp6pr_xbXjKJ",
        "colab_type": "code",
        "outputId": "854e7cd2-bae2-43aa-d1aa-97571157e8f7",
        "colab": {
          "base_uri": "https://localhost:8080/",
          "height": 2604
        }
      },
      "cell_type": "code",
      "source": [
        "if __name__ == '__main__':\n",
        "    train(138000)"
      ],
      "execution_count": 0,
      "outputs": [
        {
          "output_type": "stream",
          "text": [
            "Resuming training, loading weights/ssd300_VOC_1000.pth...\n",
            "Loading weights into state dict...\n",
            "Finished!\n",
            "Loading the dataset...\n",
            "Training SSD on: VOC0712\n"
          ],
          "name": "stdout"
        },
        {
          "output_type": "stream",
          "text": [
            "/usr/local/lib/python3.6/dist-packages/torch/nn/_reduction.py:49: UserWarning: size_average and reduce args will be deprecated, please use reduction='sum' instead.\n",
            "  warnings.warn(warning.format(ret))\n"
          ],
          "name": "stderr"
        },
        {
          "output_type": "stream",
          "text": [
            "timer: 19.3302 sec.\n",
            "iter 138000 || Loss: 1.8315 || \n",
            "Saving state, iter: 138000\n",
            "timer: 0.4816 sec.\n",
            "iter 138100 || Loss: 1.9744 || timer: 0.3870 sec.\n",
            "iter 138200 || Loss: 2.5221 || timer: 0.4103 sec.\n",
            "iter 138300 || Loss: 2.1575 || timer: 0.4117 sec.\n",
            "iter 138400 || Loss: 2.3497 || timer: 0.4177 sec.\n",
            "iter 138500 || Loss: 1.6133 || timer: 0.4502 sec.\n",
            "iter 138600 || Loss: 2.3512 || timer: 0.4471 sec.\n",
            "iter 138700 || Loss: 2.0656 || timer: 0.4534 sec.\n",
            "iter 138800 || Loss: 2.3042 || timer: 0.4324 sec.\n",
            "iter 138900 || Loss: 1.8358 || timer: 0.4391 sec.\n",
            "iter 139000 || Loss: 2.2822 || \n",
            "Saving state, iter: 139000\n",
            "timer: 0.4550 sec.\n",
            "iter 139100 || Loss: 2.5102 || timer: 0.4469 sec.\n",
            "iter 139200 || Loss: 2.6075 || timer: 0.4385 sec.\n",
            "iter 139300 || Loss: 2.1186 || timer: 0.4475 sec.\n",
            "iter 139400 || Loss: 2.1126 || timer: 0.4319 sec.\n",
            "iter 139500 || Loss: 2.9796 || timer: 0.4146 sec.\n",
            "iter 139600 || Loss: 2.3358 || timer: 0.4203 sec.\n",
            "iter 139700 || Loss: 1.9458 || timer: 0.4375 sec.\n",
            "iter 139800 || Loss: 2.1742 || timer: 0.4393 sec.\n",
            "iter 139900 || Loss: 2.4354 || timer: 0.4432 sec.\n",
            "iter 140000 || Loss: 2.1819 || \n",
            "Saving state, iter: 140000\n",
            "timer: 0.4209 sec.\n",
            "iter 140100 || Loss: 1.7834 || timer: 0.4180 sec.\n",
            "iter 140200 || Loss: 2.3059 || timer: 0.4206 sec.\n",
            "iter 140300 || Loss: 2.3261 || timer: 0.4576 sec.\n",
            "iter 140400 || Loss: 2.4145 || timer: 0.4259 sec.\n",
            "iter 140500 || Loss: 1.9401 || timer: 0.4180 sec.\n",
            "iter 140600 || Loss: 2.9222 || timer: 0.4292 sec.\n",
            "iter 140700 || Loss: 1.7051 || timer: 0.4677 sec.\n",
            "iter 140800 || Loss: 2.1748 || timer: 0.4145 sec.\n",
            "iter 140900 || Loss: 1.8224 || timer: 0.4174 sec.\n",
            "iter 141000 || Loss: 2.0705 || \n",
            "Saving state, iter: 141000\n",
            "timer: 0.4505 sec.\n",
            "iter 141100 || Loss: 1.9584 || timer: 0.4301 sec.\n",
            "iter 141200 || Loss: 2.4184 || timer: 0.4500 sec.\n",
            "iter 141300 || Loss: 1.9056 || timer: 0.4209 sec.\n",
            "iter 141400 || Loss: 2.3847 || timer: 0.4566 sec.\n",
            "iter 141500 || Loss: 2.0941 || timer: 0.4176 sec.\n",
            "iter 141600 || Loss: 2.3776 || timer: 0.4187 sec.\n",
            "iter 141700 || Loss: 2.1634 || timer: 0.4279 sec.\n",
            "iter 141800 || Loss: 2.3170 || timer: 0.4134 sec.\n",
            "iter 141900 || Loss: 2.1339 || timer: 0.4560 sec.\n",
            "iter 142000 || Loss: 2.2392 || \n",
            "Saving state, iter: 142000\n",
            "timer: 0.4462 sec.\n",
            "iter 142100 || Loss: 2.4373 || timer: 0.4453 sec.\n",
            "iter 142200 || Loss: 2.3203 || timer: 0.4511 sec.\n",
            "iter 142300 || Loss: 1.5603 || timer: 0.4445 sec.\n",
            "iter 142500 || Loss: 1.9700 || timer: 0.4254 sec.\n",
            "iter 142600 || Loss: 2.1799 || timer: 0.4363 sec.\n",
            "iter 142700 || Loss: 1.9950 || timer: 0.4148 sec.\n",
            "iter 142800 || Loss: 1.5540 || timer: 0.4478 sec.\n",
            "iter 142900 || Loss: 2.4017 || timer: 0.4390 sec.\n",
            "iter 143000 || Loss: 2.1156 || \n",
            "Saving state, iter: 143000\n",
            "timer: 0.4519 sec.\n",
            "iter 143100 || Loss: 2.4456 || timer: 0.4190 sec.\n",
            "iter 143200 || Loss: 2.0900 || timer: 0.4521 sec.\n",
            "iter 143300 || Loss: 2.2747 || timer: 0.4296 sec.\n",
            "iter 143400 || Loss: 2.4284 || timer: 0.4426 sec.\n",
            "iter 143500 || Loss: 1.9368 || timer: 0.4498 sec.\n",
            "iter 143600 || Loss: 2.2791 || timer: 0.4291 sec.\n",
            "iter 143700 || Loss: 2.5768 || timer: 0.4424 sec.\n",
            "iter 143800 || Loss: 2.7364 || timer: 0.4437 sec.\n",
            "iter 143900 || Loss: 3.0188 || timer: 0.4160 sec.\n",
            "iter 144000 || Loss: 2.1076 || \n",
            "Saving state, iter: 144000\n",
            "timer: 0.4767 sec.\n",
            "iter 144100 || Loss: 2.0160 || timer: 0.4388 sec.\n",
            "iter 144200 || Loss: 1.8499 || timer: 0.4592 sec.\n",
            "iter 144300 || Loss: 2.2062 || timer: 0.4252 sec.\n",
            "iter 144400 || Loss: 2.8973 || timer: 0.4228 sec.\n",
            "iter 144500 || Loss: 2.3362 || timer: 0.4834 sec.\n",
            "iter 144600 || Loss: 2.1370 || timer: 0.4237 sec.\n",
            "iter 144700 || Loss: 2.3445 || timer: 0.4275 sec.\n",
            "iter 144800 || Loss: 2.0030 || timer: 0.4318 sec.\n",
            "iter 144900 || Loss: 2.0180 || timer: 0.4269 sec.\n",
            "iter 145000 || Loss: 1.9833 || \n",
            "Saving state, iter: 145000\n",
            "timer: 0.4537 sec.\n",
            "iter 145100 || Loss: 2.0552 || timer: 0.4386 sec.\n",
            "iter 145200 || Loss: 1.9344 || timer: 0.4505 sec.\n",
            "iter 145300 || Loss: 1.9920 || timer: 0.4399 sec.\n",
            "iter 145400 || Loss: 2.1245 || timer: 0.4292 sec.\n",
            "iter 145500 || Loss: 2.4053 || timer: 0.4204 sec.\n",
            "iter 145600 || Loss: 1.6951 || timer: 0.4245 sec.\n",
            "iter 145700 || Loss: 1.8104 || timer: 0.4199 sec.\n",
            "iter 145800 || Loss: 2.1070 || timer: 0.4351 sec.\n",
            "iter 145900 || Loss: 2.6718 || timer: 0.4261 sec.\n",
            "iter 146000 || Loss: 2.4152 || \n",
            "Saving state, iter: 146000\n",
            "timer: 0.4422 sec.\n",
            "iter 146100 || Loss: 2.1769 || timer: 0.4166 sec.\n",
            "iter 146200 || Loss: 2.1105 || timer: 0.4533 sec.\n",
            "iter 146300 || Loss: 2.0095 || timer: 0.4188 sec.\n",
            "iter 146400 || Loss: 2.8355 || timer: 0.4430 sec.\n",
            "iter 146500 || Loss: 1.6144 || timer: 0.4342 sec.\n",
            "iter 146600 || Loss: 2.6412 || timer: 0.4448 sec.\n",
            "iter 146700 || Loss: 1.6403 || timer: 0.4443 sec.\n",
            "iter 146800 || Loss: 1.7033 || timer: 0.4127 sec.\n",
            "iter 146900 || Loss: 1.9037 || timer: 0.5187 sec.\n",
            "iter 147000 || Loss: 2.1461 || \n",
            "Saving state, iter: 147000\n",
            "timer: 0.4442 sec.\n",
            "iter 147100 || Loss: 2.2870 || timer: 0.4280 sec.\n",
            "iter 147200 || Loss: 1.8277 || timer: 0.4259 sec.\n",
            "iter 147300 || Loss: 2.2373 || timer: 0.4243 sec.\n",
            "iter 147400 || Loss: 2.3387 || timer: 0.4370 sec.\n",
            "iter 147500 || Loss: 1.9156 || timer: 0.3888 sec.\n",
            "iter 147600 || Loss: 2.2483 || timer: 0.4534 sec.\n",
            "iter 147700 || Loss: 2.2434 || timer: 0.4175 sec.\n",
            "iter 147800 || Loss: 2.2995 || timer: 0.4544 sec.\n",
            "iter 147900 || Loss: 1.8516 || timer: 0.4147 sec.\n",
            "iter 148000 || Loss: 2.4609 || \n",
            "Saving state, iter: 148000\n",
            "timer: 0.4458 sec.\n",
            "iter 148100 || Loss: 2.0863 || timer: 0.4470 sec.\n",
            "iter 148200 || Loss: 2.1346 || timer: 0.4295 sec.\n",
            "iter 148300 || Loss: 2.5371 || timer: 0.4585 sec.\n",
            "iter 148400 || Loss: 1.9897 || timer: 0.4489 sec.\n",
            "iter 148500 || Loss: 2.1992 || timer: 0.4313 sec.\n",
            "iter 148600 || Loss: 1.6396 || timer: 0.4260 sec.\n",
            "iter 148700 || Loss: 1.9208 || timer: 0.4368 sec.\n",
            "iter 148800 || Loss: 2.4362 || timer: 0.4298 sec.\n",
            "iter 148900 || Loss: 2.0392 || timer: 0.4447 sec.\n",
            "iter 149000 || Loss: 2.2930 || \n",
            "Saving state, iter: 149000\n",
            "timer: 0.4348 sec.\n",
            "iter 149100 || Loss: 2.3359 || timer: 0.4205 sec.\n",
            "iter 149200 || Loss: 1.7774 || timer: 0.4241 sec.\n",
            "iter 149300 || Loss: 2.6542 || timer: 0.4240 sec.\n",
            "iter 149400 || Loss: 1.6833 || timer: 0.4453 sec.\n",
            "iter 149500 || Loss: 2.1719 || timer: 0.4321 sec.\n",
            "iter 149600 || Loss: 2.0569 || timer: 0.4280 sec.\n",
            "iter 149700 || Loss: 1.8277 || timer: 0.4196 sec.\n",
            "iter 149800 || Loss: 1.6881 || timer: 0.4622 sec.\n",
            "iter 149900 || Loss: 1.8760 || "
          ],
          "name": "stdout"
        }
      ]
    },
    {
      "metadata": {
        "id": "gjX_HiQAfLtY",
        "colab_type": "code",
        "outputId": "2a78e3a7-9923-41de-f711-11d68c410ca2",
        "colab": {
          "base_uri": "https://localhost:8080/",
          "height": 68
        }
      },
      "cell_type": "code",
      "source": [
        "!ls"
      ],
      "execution_count": 0,
      "outputs": [
        {
          "output_type": "stream",
          "text": [
            " data\t   output\t\t    ssd_person.ipynb   test_videos   utils\n",
            " eval.py  'person with hog.ipynb'   ssd.py\t       train.ipynb   weights\n",
            " layers    __pycache__\t\t    test.py\t       train.py\n"
          ],
          "name": "stdout"
        }
      ]
    },
    {
      "metadata": {
        "id": "tQpOF1QTfPli",
        "colab_type": "code",
        "outputId": "2dc6726a-dcaa-4510-89b9-d02938885291",
        "colab": {
          "base_uri": "https://localhost:8080/",
          "height": 34
        }
      },
      "cell_type": "code",
      "source": [
        "!LS"
      ],
      "execution_count": 0,
      "outputs": [
        {
          "output_type": "stream",
          "text": [
            "/bin/bash: LS: command not found\n"
          ],
          "name": "stdout"
        }
      ]
    },
    {
      "metadata": {
        "id": "gmlY5Sszbi02",
        "colab_type": "code",
        "outputId": "766c16c5-aa5c-4c1f-cae3-1366b0accf74",
        "colab": {
          "base_uri": "https://localhost:8080/",
          "height": 34
        }
      },
      "cell_type": "code",
      "source": [
        "!LS"
      ],
      "execution_count": 0,
      "outputs": [
        {
          "output_type": "stream",
          "text": [
            "/bin/bash: LS: command not found\n"
          ],
          "name": "stdout"
        }
      ]
    },
    {
      "metadata": {
        "id": "gjRPDl1mhofu",
        "colab_type": "code",
        "outputId": "f08d0024-a4dc-48f5-9d22-f306f1db6ea4",
        "colab": {
          "base_uri": "https://localhost:8080/",
          "height": 34
        }
      },
      "cell_type": "code",
      "source": [
        "!LS"
      ],
      "execution_count": 0,
      "outputs": [
        {
          "output_type": "stream",
          "text": [
            "/bin/bash: LS: command not found\n"
          ],
          "name": "stdout"
        }
      ]
    },
    {
      "metadata": {
        "id": "z4P2emrghoce",
        "colab_type": "code",
        "outputId": "585e817c-e49f-4acf-b61f-266cf106dce3",
        "colab": {
          "base_uri": "https://localhost:8080/",
          "height": 68
        }
      },
      "cell_type": "code",
      "source": [
        "!ls"
      ],
      "execution_count": 0,
      "outputs": [
        {
          "output_type": "stream",
          "text": [
            " data\t   output\t\t    ssd_person.ipynb   test_videos   utils\n",
            " eval.py  'person with hog.ipynb'   ssd.py\t       train.ipynb   weights\n",
            " layers    __pycache__\t\t    test.py\t       train.py\n"
          ],
          "name": "stdout"
        }
      ]
    },
    {
      "metadata": {
        "id": "U60wAie9hmiU",
        "colab_type": "code",
        "outputId": "956bdd8b-8179-446f-8516-b0a2df39c49d",
        "colab": {
          "base_uri": "https://localhost:8080/",
          "height": 34
        }
      },
      "cell_type": "code",
      "source": [
        "!LS"
      ],
      "execution_count": 0,
      "outputs": [
        {
          "output_type": "stream",
          "text": [
            "/bin/bash: LS: command not found\n"
          ],
          "name": "stdout"
        }
      ]
    },
    {
      "metadata": {
        "id": "zT7sDNnCY1eN",
        "colab_type": "code",
        "outputId": "1f46a200-8ded-41b3-8db8-c00c798c391e",
        "colab": {
          "base_uri": "https://localhost:8080/",
          "height": 68
        }
      },
      "cell_type": "code",
      "source": [
        "!ls"
      ],
      "execution_count": 0,
      "outputs": [
        {
          "output_type": "stream",
          "text": [
            " data\t   output\t\t    ssd_person.ipynb   test_videos   utils\n",
            " eval.py  'person with hog.ipynb'   ssd.py\t       train.ipynb   weights\n",
            " layers    __pycache__\t\t    test.py\t       train.py\n"
          ],
          "name": "stdout"
        }
      ]
    },
    {
      "metadata": {
        "id": "nze4jDL8Vz0Z",
        "colab_type": "code",
        "outputId": "914a585b-c6bd-441e-cc3f-24d0bc175553",
        "colab": {
          "base_uri": "https://localhost:8080/",
          "height": 34
        }
      },
      "cell_type": "code",
      "source": [
        "!la"
      ],
      "execution_count": 0,
      "outputs": [
        {
          "output_type": "stream",
          "text": [
            "/bin/bash: la: command not found\n"
          ],
          "name": "stdout"
        }
      ]
    },
    {
      "metadata": {
        "id": "QjI473fbxjdM",
        "colab_type": "code",
        "outputId": "8ad3aab9-a6f8-445f-9849-5818d9c10dc1",
        "colab": {
          "base_uri": "https://localhost:8080/",
          "height": 68
        }
      },
      "cell_type": "code",
      "source": [
        "!ls"
      ],
      "execution_count": 0,
      "outputs": [
        {
          "output_type": "stream",
          "text": [
            " data\t   output\t\t    ssd_person.ipynb   test_videos   utils\n",
            " eval.py  'person with hog.ipynb'   ssd.py\t       train.ipynb   weights\n",
            " layers    __pycache__\t\t    test.py\t       train.py\n"
          ],
          "name": "stdout"
        }
      ]
    },
    {
      "metadata": {
        "id": "oz3L9xLYxjZ3",
        "colab_type": "code",
        "outputId": "f197b386-b6bc-4629-d15c-47092b5eb51d",
        "colab": {
          "base_uri": "https://localhost:8080/",
          "height": 68
        }
      },
      "cell_type": "code",
      "source": [
        "!ls"
      ],
      "execution_count": 0,
      "outputs": [
        {
          "output_type": "stream",
          "text": [
            " data\t   output\t\t    ssd_person.ipynb   test_videos   utils\n",
            " eval.py  'person with hog.ipynb'   ssd.py\t       train.ipynb   weights\n",
            " layers    __pycache__\t\t    test.py\t       train.py\n"
          ],
          "name": "stdout"
        }
      ]
    },
    {
      "metadata": {
        "id": "oReZVZbMvl6r",
        "colab_type": "code",
        "outputId": "64a48d62-1a75-49f2-ca37-244fbce53df7",
        "colab": {
          "base_uri": "https://localhost:8080/",
          "height": 68
        }
      },
      "cell_type": "code",
      "source": [
        "!ls"
      ],
      "execution_count": 0,
      "outputs": [
        {
          "output_type": "stream",
          "text": [
            " data\t   output\t\t    ssd_person.ipynb   test_videos   utils\n",
            " eval.py  'person with hog.ipynb'   ssd.py\t       train.ipynb   weights\n",
            " layers    __pycache__\t\t    test.py\t       train.py\n"
          ],
          "name": "stdout"
        }
      ]
    },
    {
      "metadata": {
        "id": "7oqL_aLuvl3N",
        "colab_type": "code",
        "outputId": "a40e2693-8675-427c-d7c0-ba703b5f0441",
        "colab": {
          "base_uri": "https://localhost:8080/",
          "height": 68
        }
      },
      "cell_type": "code",
      "source": [
        "!ls"
      ],
      "execution_count": 0,
      "outputs": [
        {
          "output_type": "stream",
          "text": [
            " data\t   output\t\t    ssd_person.ipynb   test_videos   utils\n",
            " eval.py  'person with hog.ipynb'   ssd.py\t       train.ipynb   weights\n",
            " layers    __pycache__\t\t    test.py\t       train.py\n"
          ],
          "name": "stdout"
        }
      ]
    },
    {
      "metadata": {
        "id": "ddtIFjBXvlzq",
        "colab_type": "code",
        "outputId": "b09b8631-2b4a-4001-f620-5b1037ab115a",
        "colab": {
          "base_uri": "https://localhost:8080/",
          "height": 68
        }
      },
      "cell_type": "code",
      "source": [
        "!ls"
      ],
      "execution_count": 0,
      "outputs": [
        {
          "output_type": "stream",
          "text": [
            " data\t   output\t\t    ssd_person.ipynb   test_videos   utils\n",
            " eval.py  'person with hog.ipynb'   ssd.py\t       train.ipynb   weights\n",
            " layers    __pycache__\t\t    test.py\t       train.py\n"
          ],
          "name": "stdout"
        }
      ]
    },
    {
      "metadata": {
        "id": "9yaHf2czqqFL",
        "colab_type": "code",
        "outputId": "58d62c77-4b92-409c-f7e6-635cdd23e614",
        "colab": {
          "base_uri": "https://localhost:8080/",
          "height": 68
        }
      },
      "cell_type": "code",
      "source": [
        "!ls"
      ],
      "execution_count": 0,
      "outputs": [
        {
          "output_type": "stream",
          "text": [
            " data\t   output\t\t    ssd_person.ipynb   test_videos   utils\n",
            " eval.py  'person with hog.ipynb'   ssd.py\t       train.ipynb   weights\n",
            " layers    __pycache__\t\t    test.py\t       train.py\n"
          ],
          "name": "stdout"
        }
      ]
    },
    {
      "metadata": {
        "id": "IDN4kPD4inUe",
        "colab_type": "code",
        "outputId": "bb52968b-d5e1-4630-a44c-631036806d66",
        "colab": {
          "base_uri": "https://localhost:8080/",
          "height": 68
        }
      },
      "cell_type": "code",
      "source": [
        " !ls"
      ],
      "execution_count": 0,
      "outputs": [
        {
          "output_type": "stream",
          "text": [
            " data\t   output\t\t    ssd_person.ipynb   test_videos   utils\n",
            " eval.py  'person with hog.ipynb'   ssd.py\t       train.ipynb   weights\n",
            " layers    __pycache__\t\t    test.py\t       train.py\n"
          ],
          "name": "stdout"
        }
      ]
    },
    {
      "metadata": {
        "id": "SbDrRvD1inMd",
        "colab_type": "code",
        "outputId": "ad2a349b-1a06-4de0-b29e-fe91d2df3603",
        "colab": {
          "base_uri": "https://localhost:8080/",
          "height": 68
        }
      },
      "cell_type": "code",
      "source": [
        "!ls"
      ],
      "execution_count": 0,
      "outputs": [
        {
          "output_type": "stream",
          "text": [
            " data\t   output\t\t    ssd_person.ipynb   test_videos   utils\n",
            " eval.py  'person with hog.ipynb'   ssd.py\t       train.ipynb   weights\n",
            " layers    __pycache__\t\t    test.py\t       train.py\n"
          ],
          "name": "stdout"
        }
      ]
    },
    {
      "metadata": {
        "id": "_0OvO_e9ZyDF",
        "colab_type": "code",
        "outputId": "ca64c250-d051-46de-d1d6-0f3dc33f2b5a",
        "colab": {
          "base_uri": "https://localhost:8080/",
          "height": 68
        }
      },
      "cell_type": "code",
      "source": [
        "!ls"
      ],
      "execution_count": 0,
      "outputs": [
        {
          "output_type": "stream",
          "text": [
            " data\t   output\t\t    ssd_person.ipynb   test_videos   utils\n",
            " eval.py  'person with hog.ipynb'   ssd.py\t       train.ipynb   weights\n",
            " layers    __pycache__\t\t    test.py\t       train.py\n"
          ],
          "name": "stdout"
        }
      ]
    },
    {
      "metadata": {
        "id": "ay5Po9YnYWZW",
        "colab_type": "code",
        "outputId": "a92e8d6d-9814-4b2e-9b1d-25dfed307324",
        "colab": {
          "base_uri": "https://localhost:8080/",
          "height": 68
        }
      },
      "cell_type": "code",
      "source": [
        "!ls"
      ],
      "execution_count": 0,
      "outputs": [
        {
          "output_type": "stream",
          "text": [
            " data\t   output\t\t    ssd_person.ipynb   test_videos   utils\n",
            " eval.py  'person with hog.ipynb'   ssd.py\t       train.ipynb   weights\n",
            " layers    __pycache__\t\t    test.py\t       train.py\n"
          ],
          "name": "stdout"
        }
      ]
    },
    {
      "metadata": {
        "id": "oYvWZV_VU1VL",
        "colab_type": "code",
        "outputId": "3e095189-b65e-4041-c025-8cb84896c373",
        "colab": {
          "base_uri": "https://localhost:8080/",
          "height": 68
        }
      },
      "cell_type": "code",
      "source": [
        "!ls"
      ],
      "execution_count": 0,
      "outputs": [
        {
          "output_type": "stream",
          "text": [
            " data\t   output\t\t    ssd_person.ipynb   test_videos   utils\n",
            " eval.py  'person with hog.ipynb'   ssd.py\t       train.ipynb   weights\n",
            " layers    __pycache__\t\t    test.py\t       train.py\n"
          ],
          "name": "stdout"
        }
      ]
    },
    {
      "metadata": {
        "id": "msmP_dd3Z-IB",
        "colab_type": "code",
        "colab": {}
      },
      "cell_type": "code",
      "source": [
        ""
      ],
      "execution_count": 0,
      "outputs": []
    },
    {
      "metadata": {
        "id": "XAh1NH-5UUHA",
        "colab_type": "code",
        "outputId": "36936f9a-41a2-4835-a769-b31f4392058b",
        "colab": {
          "base_uri": "https://localhost:8080/",
          "height": 68
        }
      },
      "cell_type": "code",
      "source": [
        "!ls"
      ],
      "execution_count": 0,
      "outputs": [
        {
          "output_type": "stream",
          "text": [
            " data\t   output\t\t    ssd_person.ipynb   test_videos   utils\n",
            " eval.py  'person with hog.ipynb'   ssd.py\t       train.ipynb   weights\n",
            " layers    __pycache__\t\t    test.py\t       train.py\n"
          ],
          "name": "stdout"
        }
      ]
    },
    {
      "metadata": {
        "colab_type": "code",
        "id": "vnc_xdT-nw7R",
        "outputId": "4221df61-88ea-4d25-a706-c85a6eca8c94",
        "colab": {
          "base_uri": "https://localhost:8080/",
          "height": 68
        }
      },
      "cell_type": "code",
      "source": [
        "!ls"
      ],
      "execution_count": 0,
      "outputs": [
        {
          "output_type": "stream",
          "text": [
            " data\t   output\t\t    ssd_person.ipynb   test_videos   utils\n",
            " eval.py  'person with hog.ipynb'   ssd.py\t       train.ipynb   weights\n",
            " layers    __pycache__\t\t    test.py\t       train.py\n"
          ],
          "name": "stdout"
        }
      ]
    },
    {
      "metadata": {
        "colab_type": "code",
        "id": "BY1bO9B2nw7P",
        "outputId": "605a5f9e-7cd4-4ee2-b8b1-732964324c9f",
        "colab": {
          "base_uri": "https://localhost:8080/",
          "height": 68
        }
      },
      "cell_type": "code",
      "source": [
        "!ls"
      ],
      "execution_count": 0,
      "outputs": [
        {
          "output_type": "stream",
          "text": [
            " data\t   output\t\t    ssd_person.ipynb   test_videos   utils\n",
            " eval.py  'person with hog.ipynb'   ssd.py\t       train.ipynb   weights\n",
            " layers    __pycache__\t\t    test.py\t       train.py\n"
          ],
          "name": "stdout"
        }
      ]
    },
    {
      "metadata": {
        "colab_type": "code",
        "id": "fg-40HZDnw7N",
        "outputId": "825cdf61-4cd0-4f29-c9a8-878d172b4211",
        "colab": {
          "base_uri": "https://localhost:8080/",
          "height": 68
        }
      },
      "cell_type": "code",
      "source": [
        "!ls"
      ],
      "execution_count": 0,
      "outputs": [
        {
          "output_type": "stream",
          "text": [
            " data\t   output\t\t    ssd_person.ipynb   test_videos   utils\n",
            " eval.py  'person with hog.ipynb'   ssd.py\t       train.ipynb   weights\n",
            " layers    __pycache__\t\t    test.py\t       train.py\n"
          ],
          "name": "stdout"
        }
      ]
    },
    {
      "metadata": {
        "colab_type": "code",
        "id": "rwHqyWjdnw7K",
        "outputId": "799e3db7-a3af-40ea-c36f-3718afee4435",
        "colab": {
          "base_uri": "https://localhost:8080/",
          "height": 68
        }
      },
      "cell_type": "code",
      "source": [
        "!ls"
      ],
      "execution_count": 0,
      "outputs": [
        {
          "output_type": "stream",
          "text": [
            " data\t   output\t\t    ssd_person.ipynb   test_videos   utils\n",
            " eval.py  'person with hog.ipynb'   ssd.py\t       train.ipynb   weights\n",
            " layers    __pycache__\t\t    test.py\t       train.py\n"
          ],
          "name": "stdout"
        }
      ]
    },
    {
      "metadata": {
        "colab_type": "code",
        "id": "H8Y0yFzbnw7I",
        "outputId": "3341d134-05fb-48a9-b609-469801b44bc5",
        "colab": {
          "base_uri": "https://localhost:8080/",
          "height": 68
        }
      },
      "cell_type": "code",
      "source": [
        "!ls"
      ],
      "execution_count": 0,
      "outputs": [
        {
          "output_type": "stream",
          "text": [
            " data\t   output\t\t    ssd_person.ipynb   test_videos   utils\n",
            " eval.py  'person with hog.ipynb'   ssd.py\t       train.ipynb   weights\n",
            " layers    __pycache__\t\t    test.py\t       train.py\n"
          ],
          "name": "stdout"
        }
      ]
    },
    {
      "metadata": {
        "colab_type": "code",
        "id": "ZOSWIC8tnw7G",
        "outputId": "fe0556cf-75e7-4eb8-85a5-31b6f86613d7",
        "colab": {
          "base_uri": "https://localhost:8080/",
          "height": 68
        }
      },
      "cell_type": "code",
      "source": [
        "!ls"
      ],
      "execution_count": 0,
      "outputs": [
        {
          "output_type": "stream",
          "text": [
            " data\t   output\t\t    ssd_person.ipynb   test_videos   utils\n",
            " eval.py  'person with hog.ipynb'   ssd.py\t       train.ipynb   weights\n",
            " layers    __pycache__\t\t    test.py\t       train.py\n"
          ],
          "name": "stdout"
        }
      ]
    },
    {
      "metadata": {
        "colab_type": "code",
        "id": "Qh-hlm2jnw7D",
        "outputId": "28c1dc25-9403-4d35-c84d-9c33ebdde0ae",
        "colab": {
          "base_uri": "https://localhost:8080/",
          "height": 68
        }
      },
      "cell_type": "code",
      "source": [
        "!ls"
      ],
      "execution_count": 0,
      "outputs": [
        {
          "output_type": "stream",
          "text": [
            " data\t   output\t\t    ssd_person.ipynb   test_videos   utils\n",
            " eval.py  'person with hog.ipynb'   ssd.py\t       train.ipynb   weights\n",
            " layers    __pycache__\t\t    test.py\t       train.py\n"
          ],
          "name": "stdout"
        }
      ]
    },
    {
      "metadata": {
        "colab_type": "code",
        "id": "5TCVGpHFnw7A",
        "outputId": "0e9c2ef9-83a0-4c7b-b55a-8a5106c9d89e",
        "colab": {
          "base_uri": "https://localhost:8080/",
          "height": 68
        }
      },
      "cell_type": "code",
      "source": [
        "!ls"
      ],
      "execution_count": 0,
      "outputs": [
        {
          "output_type": "stream",
          "text": [
            " data\t   output\t\t    ssd_person.ipynb   test_videos   utils\n",
            " eval.py  'person with hog.ipynb'   ssd.py\t       train.ipynb   weights\n",
            " layers    __pycache__\t\t    test.py\t       train.py\n"
          ],
          "name": "stdout"
        }
      ]
    },
    {
      "metadata": {
        "colab_type": "code",
        "id": "lzEO__fZnw69",
        "outputId": "6805b8ed-7634-4e12-a6aa-b2701068bbdc",
        "colab": {
          "base_uri": "https://localhost:8080/",
          "height": 68
        }
      },
      "cell_type": "code",
      "source": [
        "!ls"
      ],
      "execution_count": 0,
      "outputs": [
        {
          "output_type": "stream",
          "text": [
            " data\t   output\t\t    ssd_person.ipynb   test_videos   utils\n",
            " eval.py  'person with hog.ipynb'   ssd.py\t       train.ipynb   weights\n",
            " layers    __pycache__\t\t    test.py\t       train.py\n"
          ],
          "name": "stdout"
        }
      ]
    },
    {
      "metadata": {
        "colab_type": "code",
        "id": "D2UYpfgCnw67",
        "outputId": "edff17c8-37ff-4944-9261-5b9abcc23f85",
        "colab": {
          "base_uri": "https://localhost:8080/",
          "height": 68
        }
      },
      "cell_type": "code",
      "source": [
        "!ls"
      ],
      "execution_count": 0,
      "outputs": [
        {
          "output_type": "stream",
          "text": [
            " data\t   output\t\t    ssd_person.ipynb   test_videos   utils\n",
            " eval.py  'person with hog.ipynb'   ssd.py\t       train.ipynb   weights\n",
            " layers    __pycache__\t\t    test.py\t       train.py\n"
          ],
          "name": "stdout"
        }
      ]
    },
    {
      "metadata": {
        "colab_type": "code",
        "id": "-iuiSlLnnw64",
        "outputId": "a988f8db-d1c1-4382-9fd5-9c03b93bf942",
        "colab": {
          "base_uri": "https://localhost:8080/",
          "height": 68
        }
      },
      "cell_type": "code",
      "source": [
        "!ls"
      ],
      "execution_count": 0,
      "outputs": [
        {
          "output_type": "stream",
          "text": [
            " data\t   output\t\t    ssd_person.ipynb   test_videos   utils\n",
            " eval.py  'person with hog.ipynb'   ssd.py\t       train.ipynb   weights\n",
            " layers    __pycache__\t\t    test.py\t       train.py\n"
          ],
          "name": "stdout"
        }
      ]
    },
    {
      "metadata": {
        "colab_type": "code",
        "id": "tIC9x7lMnw61",
        "outputId": "7f26374e-1060-414e-a109-8fea7e78f4c3",
        "colab": {
          "base_uri": "https://localhost:8080/",
          "height": 68
        }
      },
      "cell_type": "code",
      "source": [
        "!ls"
      ],
      "execution_count": 0,
      "outputs": [
        {
          "output_type": "stream",
          "text": [
            " data\t   output\t\t    ssd_person.ipynb   test_videos   utils\n",
            " eval.py  'person with hog.ipynb'   ssd.py\t       train.ipynb   weights\n",
            " layers    __pycache__\t\t    test.py\t       train.py\n"
          ],
          "name": "stdout"
        }
      ]
    },
    {
      "metadata": {
        "colab_type": "code",
        "id": "VCQZtS4Wnw6y",
        "outputId": "72937444-f085-4b14-979c-693377ea949a",
        "colab": {
          "base_uri": "https://localhost:8080/",
          "height": 68
        }
      },
      "cell_type": "code",
      "source": [
        "!ls"
      ],
      "execution_count": 0,
      "outputs": [
        {
          "output_type": "stream",
          "text": [
            " data\t   output\t\t    ssd_person.ipynb   test_videos   utils\n",
            " eval.py  'person with hog.ipynb'   ssd.py\t       train.ipynb   weights\n",
            " layers    __pycache__\t\t    test.py\t       train.py\n"
          ],
          "name": "stdout"
        }
      ]
    },
    {
      "metadata": {
        "colab_type": "code",
        "id": "BOzhY0rhnw6v",
        "outputId": "897f63cd-9c13-4c56-f825-a02abfecd705",
        "colab": {
          "base_uri": "https://localhost:8080/",
          "height": 68
        }
      },
      "cell_type": "code",
      "source": [
        "!ls"
      ],
      "execution_count": 0,
      "outputs": [
        {
          "output_type": "stream",
          "text": [
            " data\t   output\t\t    ssd_person.ipynb   test_videos   utils\n",
            " eval.py  'person with hog.ipynb'   ssd.py\t       train.ipynb   weights\n",
            " layers    __pycache__\t\t    test.py\t       train.py\n"
          ],
          "name": "stdout"
        }
      ]
    },
    {
      "metadata": {
        "colab_type": "code",
        "id": "dsjX-Dvznw6s",
        "outputId": "a3da1caa-4132-406d-8f6e-f89bc2d5d999",
        "colab": {
          "base_uri": "https://localhost:8080/",
          "height": 68
        }
      },
      "cell_type": "code",
      "source": [
        "!ls"
      ],
      "execution_count": 0,
      "outputs": [
        {
          "output_type": "stream",
          "text": [
            " data\t   output\t\t    ssd_person.ipynb   test_videos   utils\n",
            " eval.py  'person with hog.ipynb'   ssd.py\t       train.ipynb   weights\n",
            " layers    __pycache__\t\t    test.py\t       train.py\n"
          ],
          "name": "stdout"
        }
      ]
    },
    {
      "metadata": {
        "colab_type": "code",
        "id": "wWE7wLZknw6q",
        "outputId": "04b32b2c-f3fb-42af-c163-d88b7594b5fb",
        "colab": {
          "base_uri": "https://localhost:8080/",
          "height": 68
        }
      },
      "cell_type": "code",
      "source": [
        "!ls"
      ],
      "execution_count": 0,
      "outputs": [
        {
          "output_type": "stream",
          "text": [
            " data\t   output\t\t    ssd_person.ipynb   test_videos   utils\n",
            " eval.py  'person with hog.ipynb'   ssd.py\t       train.ipynb   weights\n",
            " layers    __pycache__\t\t    test.py\t       train.py\n"
          ],
          "name": "stdout"
        }
      ]
    },
    {
      "metadata": {
        "colab_type": "code",
        "id": "asuLaNHinw6n",
        "outputId": "e3c3f083-6e2d-4dbb-ef24-2103a76adad6",
        "colab": {
          "base_uri": "https://localhost:8080/",
          "height": 68
        }
      },
      "cell_type": "code",
      "source": [
        "!ls"
      ],
      "execution_count": 0,
      "outputs": [
        {
          "output_type": "stream",
          "text": [
            " data\t   output\t\t    ssd_person.ipynb   test_videos   utils\n",
            " eval.py  'person with hog.ipynb'   ssd.py\t       train.ipynb   weights\n",
            " layers    __pycache__\t\t    test.py\t       train.py\n"
          ],
          "name": "stdout"
        }
      ]
    },
    {
      "metadata": {
        "colab_type": "code",
        "id": "AXWt0b7Unw6j",
        "outputId": "3e5172a8-c2b6-4ff5-fb7a-a7d9bc3e2f6a",
        "colab": {
          "base_uri": "https://localhost:8080/",
          "height": 68
        }
      },
      "cell_type": "code",
      "source": [
        "!ls"
      ],
      "execution_count": 0,
      "outputs": [
        {
          "output_type": "stream",
          "text": [
            " data\t   output\t\t    ssd_person.ipynb   test_videos   utils\n",
            " eval.py  'person with hog.ipynb'   ssd.py\t       train.ipynb   weights\n",
            " layers    __pycache__\t\t    test.py\t       train.py\n"
          ],
          "name": "stdout"
        }
      ]
    },
    {
      "metadata": {
        "colab_type": "code",
        "id": "gflIlepQnw6g",
        "outputId": "1f29521b-dd7d-491b-a296-0e172ffd825a",
        "colab": {
          "base_uri": "https://localhost:8080/",
          "height": 68
        }
      },
      "cell_type": "code",
      "source": [
        "!ls"
      ],
      "execution_count": 0,
      "outputs": [
        {
          "output_type": "stream",
          "text": [
            " data\t   output\t\t    ssd_person.ipynb   test_videos   utils\n",
            " eval.py  'person with hog.ipynb'   ssd.py\t       train.ipynb   weights\n",
            " layers    __pycache__\t\t    test.py\t       train.py\n"
          ],
          "name": "stdout"
        }
      ]
    },
    {
      "metadata": {
        "colab_type": "code",
        "id": "KohhdSt7nw6b",
        "outputId": "d7243a26-cfec-4c50-9622-da7b28e18bdf",
        "colab": {
          "base_uri": "https://localhost:8080/",
          "height": 68
        }
      },
      "cell_type": "code",
      "source": [
        "!ls"
      ],
      "execution_count": 0,
      "outputs": [
        {
          "output_type": "stream",
          "text": [
            " data\t   output\t\t    ssd_person.ipynb   test_videos   utils\n",
            " eval.py  'person with hog.ipynb'   ssd.py\t       train.ipynb   weights\n",
            " layers    __pycache__\t\t    test.py\t       train.py\n"
          ],
          "name": "stdout"
        }
      ]
    },
    {
      "metadata": {
        "colab_type": "code",
        "id": "XezsXaPvnw6X",
        "outputId": "c08f5a19-f7f8-448e-bc9d-2b8a7d099ef3",
        "colab": {
          "base_uri": "https://localhost:8080/",
          "height": 68
        }
      },
      "cell_type": "code",
      "source": [
        "!ls"
      ],
      "execution_count": 0,
      "outputs": [
        {
          "output_type": "stream",
          "text": [
            " data\t   output\t\t    ssd_person.ipynb   test_videos   utils\n",
            " eval.py  'person with hog.ipynb'   ssd.py\t       train.ipynb   weights\n",
            " layers    __pycache__\t\t    test.py\t       train.py\n"
          ],
          "name": "stdout"
        }
      ]
    },
    {
      "metadata": {
        "colab_type": "code",
        "id": "4a1yeWOunw6V",
        "outputId": "ef8a6872-0e84-444e-b0ff-b248ff8c2fc7",
        "colab": {
          "base_uri": "https://localhost:8080/",
          "height": 68
        }
      },
      "cell_type": "code",
      "source": [
        "!ls"
      ],
      "execution_count": 0,
      "outputs": [
        {
          "output_type": "stream",
          "text": [
            " data\t   output\t\t    ssd_person.ipynb   test_videos   utils\n",
            " eval.py  'person with hog.ipynb'   ssd.py\t       train.ipynb   weights\n",
            " layers    __pycache__\t\t    test.py\t       train.py\n"
          ],
          "name": "stdout"
        }
      ]
    },
    {
      "metadata": {
        "colab_type": "code",
        "id": "uXu2ZwLanw6T",
        "outputId": "bada5f30-b9f7-4dc3-d80f-7989276c735b",
        "colab": {
          "base_uri": "https://localhost:8080/",
          "height": 68
        }
      },
      "cell_type": "code",
      "source": [
        "!ls"
      ],
      "execution_count": 0,
      "outputs": [
        {
          "output_type": "stream",
          "text": [
            " data\t   output\t\t    ssd_person.ipynb   test_videos   utils\n",
            " eval.py  'person with hog.ipynb'   ssd.py\t       train.ipynb   weights\n",
            " layers    __pycache__\t\t    test.py\t       train.py\n"
          ],
          "name": "stdout"
        }
      ]
    },
    {
      "metadata": {
        "colab_type": "code",
        "id": "MCRHYMnJnw6Q",
        "outputId": "1e02d5d3-b75b-4131-9946-477114f93141",
        "colab": {
          "base_uri": "https://localhost:8080/",
          "height": 68
        }
      },
      "cell_type": "code",
      "source": [
        "!ls"
      ],
      "execution_count": 0,
      "outputs": [
        {
          "output_type": "stream",
          "text": [
            " data\t   output\t\t    ssd_person.ipynb   test_videos   utils\n",
            " eval.py  'person with hog.ipynb'   ssd.py\t       train.ipynb   weights\n",
            " layers    __pycache__\t\t    test.py\t       train.py\n"
          ],
          "name": "stdout"
        }
      ]
    },
    {
      "metadata": {
        "colab_type": "code",
        "id": "a4cmP59Wnw6M",
        "outputId": "c2765585-0f55-4449-ea25-3b5c8d74b804",
        "colab": {
          "base_uri": "https://localhost:8080/",
          "height": 68
        }
      },
      "cell_type": "code",
      "source": [
        "!ls"
      ],
      "execution_count": 0,
      "outputs": [
        {
          "output_type": "stream",
          "text": [
            " data\t   output\t\t    ssd_person.ipynb   test_videos   utils\n",
            " eval.py  'person with hog.ipynb'   ssd.py\t       train.ipynb   weights\n",
            " layers    __pycache__\t\t    test.py\t       train.py\n"
          ],
          "name": "stdout"
        }
      ]
    },
    {
      "metadata": {
        "colab_type": "code",
        "id": "DpjE7TXjnw6H",
        "outputId": "461a845c-ee00-427c-e80b-a95dd7370355",
        "colab": {
          "base_uri": "https://localhost:8080/",
          "height": 68
        }
      },
      "cell_type": "code",
      "source": [
        "!ls"
      ],
      "execution_count": 0,
      "outputs": [
        {
          "output_type": "stream",
          "text": [
            " data\t   output\t\t    ssd_person.ipynb   test_videos   utils\n",
            " eval.py  'person with hog.ipynb'   ssd.py\t       train.ipynb   weights\n",
            " layers    __pycache__\t\t    test.py\t       train.py\n"
          ],
          "name": "stdout"
        }
      ]
    },
    {
      "metadata": {
        "colab_type": "code",
        "id": "BXe76QgDnw5-",
        "outputId": "51e47dc3-8856-45b3-c320-c245c6eba1de",
        "colab": {
          "base_uri": "https://localhost:8080/",
          "height": 68
        }
      },
      "cell_type": "code",
      "source": [
        "!ls"
      ],
      "execution_count": 0,
      "outputs": [
        {
          "output_type": "stream",
          "text": [
            " data\t   output\t\t    ssd_person.ipynb   test_videos   utils\n",
            " eval.py  'person with hog.ipynb'   ssd.py\t       train.ipynb   weights\n",
            " layers    __pycache__\t\t    test.py\t       train.py\n"
          ],
          "name": "stdout"
        }
      ]
    },
    {
      "metadata": {
        "colab_type": "code",
        "id": "Gmoqjng_nw50",
        "outputId": "7d2bf136-99e0-4ee1-cee0-fe49675fcdc4",
        "colab": {
          "base_uri": "https://localhost:8080/",
          "height": 68
        }
      },
      "cell_type": "code",
      "source": [
        "!ls"
      ],
      "execution_count": 0,
      "outputs": [
        {
          "output_type": "stream",
          "text": [
            " data\t   output\t\t    ssd_person.ipynb   test_videos   utils\n",
            " eval.py  'person with hog.ipynb'   ssd.py\t       train.ipynb   weights\n",
            " layers    __pycache__\t\t    test.py\t       train.py\n"
          ],
          "name": "stdout"
        }
      ]
    },
    {
      "metadata": {
        "colab_type": "code",
        "id": "bysstYBrnw5G",
        "outputId": "6b90f4ea-f060-41d9-a3e4-fa755c6e3e5e",
        "colab": {
          "base_uri": "https://localhost:8080/",
          "height": 68
        }
      },
      "cell_type": "code",
      "source": [
        "!ls"
      ],
      "execution_count": 0,
      "outputs": [
        {
          "output_type": "stream",
          "text": [
            " data\t   output\t\t    ssd_person.ipynb   test_videos   utils\n",
            " eval.py  'person with hog.ipynb'   ssd.py\t       train.ipynb   weights\n",
            " layers    __pycache__\t\t    test.py\t       train.py\n"
          ],
          "name": "stdout"
        }
      ]
    },
    {
      "metadata": {
        "colab_type": "code",
        "id": "7zptFq_gzomN",
        "outputId": "cb37c9ff-3e6b-40e5-984c-5f03afdf01db",
        "colab": {
          "base_uri": "https://localhost:8080/",
          "height": 68
        }
      },
      "cell_type": "code",
      "source": [
        "!ls"
      ],
      "execution_count": 0,
      "outputs": [
        {
          "output_type": "stream",
          "text": [
            " data\t   output\t\t    ssd_person.ipynb   test_videos   utils\n",
            " eval.py  'person with hog.ipynb'   ssd.py\t       train.ipynb   weights\n",
            " layers    __pycache__\t\t    test.py\t       train.py\n"
          ],
          "name": "stdout"
        }
      ]
    },
    {
      "metadata": {
        "colab_type": "code",
        "id": "Jrlxfc9dzoma",
        "outputId": "92f85dae-a76a-49e4-813f-141484f69713",
        "colab": {
          "base_uri": "https://localhost:8080/",
          "height": 68
        }
      },
      "cell_type": "code",
      "source": [
        "!ls"
      ],
      "execution_count": 0,
      "outputs": [
        {
          "output_type": "stream",
          "text": [
            " data\t   output\t\t    ssd_person.ipynb   test_videos   utils\n",
            " eval.py  'person with hog.ipynb'   ssd.py\t       train.ipynb   weights\n",
            " layers    __pycache__\t\t    test.py\t       train.py\n"
          ],
          "name": "stdout"
        }
      ]
    },
    {
      "metadata": {
        "colab_type": "code",
        "id": "A0o-SFoKzomi",
        "outputId": "126ba027-ca88-40bf-9211-9e082d833245",
        "colab": {
          "base_uri": "https://localhost:8080/",
          "height": 68
        }
      },
      "cell_type": "code",
      "source": [
        "!ls"
      ],
      "execution_count": 0,
      "outputs": [
        {
          "output_type": "stream",
          "text": [
            " data\t   output\t\t    ssd_person.ipynb   test_videos   utils\n",
            " eval.py  'person with hog.ipynb'   ssd.py\t       train.ipynb   weights\n",
            " layers    __pycache__\t\t    test.py\t       train.py\n"
          ],
          "name": "stdout"
        }
      ]
    },
    {
      "metadata": {
        "colab_type": "code",
        "id": "iM8785KKzomn",
        "outputId": "deb496eb-f106-4326-9abe-34fd3ab6b924",
        "colab": {
          "base_uri": "https://localhost:8080/",
          "height": 68
        }
      },
      "cell_type": "code",
      "source": [
        "!ls"
      ],
      "execution_count": 0,
      "outputs": [
        {
          "output_type": "stream",
          "text": [
            " data\t   output\t\t    ssd_person.ipynb   test_videos   utils\n",
            " eval.py  'person with hog.ipynb'   ssd.py\t       train.ipynb   weights\n",
            " layers    __pycache__\t\t    test.py\t       train.py\n"
          ],
          "name": "stdout"
        }
      ]
    },
    {
      "metadata": {
        "colab_type": "code",
        "id": "raC11YlCzomt",
        "outputId": "bc2043c6-91eb-48ed-dd38-ec03fccc5a6f",
        "colab": {
          "base_uri": "https://localhost:8080/",
          "height": 68
        }
      },
      "cell_type": "code",
      "source": [
        "!ls"
      ],
      "execution_count": 0,
      "outputs": [
        {
          "output_type": "stream",
          "text": [
            " data\t   output\t\t    ssd_person.ipynb   test_videos   utils\n",
            " eval.py  'person with hog.ipynb'   ssd.py\t       train.ipynb   weights\n",
            " layers    __pycache__\t\t    test.py\t       train.py\n"
          ],
          "name": "stdout"
        }
      ]
    },
    {
      "metadata": {
        "colab_type": "code",
        "id": "mkDvjj_6zomy",
        "outputId": "1b814936-5929-4afc-b60e-92379245a191",
        "colab": {
          "base_uri": "https://localhost:8080/",
          "height": 68
        }
      },
      "cell_type": "code",
      "source": [
        "!ls"
      ],
      "execution_count": 0,
      "outputs": [
        {
          "output_type": "stream",
          "text": [
            " data\t   output\t\t    ssd_person.ipynb   test_videos   utils\n",
            " eval.py  'person with hog.ipynb'   ssd.py\t       train.ipynb   weights\n",
            " layers    __pycache__\t\t    test.py\t       train.py\n"
          ],
          "name": "stdout"
        }
      ]
    },
    {
      "metadata": {
        "colab_type": "code",
        "id": "swxIu67bzom2",
        "outputId": "3138ff0c-d7df-474a-c856-adb96964ca2a",
        "colab": {
          "base_uri": "https://localhost:8080/",
          "height": 68
        }
      },
      "cell_type": "code",
      "source": [
        "!ls"
      ],
      "execution_count": 0,
      "outputs": [
        {
          "output_type": "stream",
          "text": [
            " data\t   output\t\t    ssd_person.ipynb   test_videos   utils\n",
            " eval.py  'person with hog.ipynb'   ssd.py\t       train.ipynb   weights\n",
            " layers    __pycache__\t\t    test.py\t       train.py\n"
          ],
          "name": "stdout"
        }
      ]
    },
    {
      "metadata": {
        "colab_type": "code",
        "id": "I_ROgt9Mzom5",
        "outputId": "ddf81420-6b03-4a16-91f3-3e6fa8f9f5a9",
        "colab": {
          "base_uri": "https://localhost:8080/",
          "height": 68
        }
      },
      "cell_type": "code",
      "source": [
        "!ls"
      ],
      "execution_count": 0,
      "outputs": [
        {
          "output_type": "stream",
          "text": [
            " data\t   output\t\t    ssd_person.ipynb   test_videos   utils\n",
            " eval.py  'person with hog.ipynb'   ssd.py\t       train.ipynb   weights\n",
            " layers    __pycache__\t\t    test.py\t       train.py\n"
          ],
          "name": "stdout"
        }
      ]
    },
    {
      "metadata": {
        "colab_type": "code",
        "id": "vhaqm0snzom9",
        "outputId": "a9805d41-9fc2-4a59-9ea7-ae124054efd5",
        "colab": {
          "base_uri": "https://localhost:8080/",
          "height": 68
        }
      },
      "cell_type": "code",
      "source": [
        "!ls"
      ],
      "execution_count": 0,
      "outputs": [
        {
          "output_type": "stream",
          "text": [
            " data\t   output\t\t    ssd_person.ipynb   test_videos   utils\n",
            " eval.py  'person with hog.ipynb'   ssd.py\t       train.ipynb   weights\n",
            " layers    __pycache__\t\t    test.py\t       train.py\n"
          ],
          "name": "stdout"
        }
      ]
    },
    {
      "metadata": {
        "colab_type": "code",
        "id": "fOewOiuDzonH",
        "outputId": "14107cc0-56b9-4f4d-f553-4862a019a9cf",
        "colab": {
          "base_uri": "https://localhost:8080/",
          "height": 68
        }
      },
      "cell_type": "code",
      "source": [
        "!ls"
      ],
      "execution_count": 0,
      "outputs": [
        {
          "output_type": "stream",
          "text": [
            " data\t   output\t\t    ssd_person.ipynb   test_videos   utils\n",
            " eval.py  'person with hog.ipynb'   ssd.py\t       train.ipynb   weights\n",
            " layers    __pycache__\t\t    test.py\t       train.py\n"
          ],
          "name": "stdout"
        }
      ]
    },
    {
      "metadata": {
        "colab_type": "code",
        "id": "HM_IcH3SzonK",
        "outputId": "cf2927e1-e979-4af8-cf04-861c8f11e2cd",
        "colab": {
          "base_uri": "https://localhost:8080/",
          "height": 68
        }
      },
      "cell_type": "code",
      "source": [
        "!ls"
      ],
      "execution_count": 0,
      "outputs": [
        {
          "output_type": "stream",
          "text": [
            " data\t   output\t\t    ssd_person.ipynb   test_videos   utils\n",
            " eval.py  'person with hog.ipynb'   ssd.py\t       train.ipynb   weights\n",
            " layers    __pycache__\t\t    test.py\t       train.py\n"
          ],
          "name": "stdout"
        }
      ]
    },
    {
      "metadata": {
        "colab_type": "code",
        "id": "9Ekd_zOzzonO",
        "outputId": "60aa39dc-8d29-4325-d438-9d8573b4f2ec",
        "colab": {
          "base_uri": "https://localhost:8080/",
          "height": 68
        }
      },
      "cell_type": "code",
      "source": [
        "!ls"
      ],
      "execution_count": 0,
      "outputs": [
        {
          "output_type": "stream",
          "text": [
            " data\t   output\t\t    ssd_person.ipynb   test_videos   utils\n",
            " eval.py  'person with hog.ipynb'   ssd.py\t       train.ipynb   weights\n",
            " layers    __pycache__\t\t    test.py\t       train.py\n"
          ],
          "name": "stdout"
        }
      ]
    },
    {
      "metadata": {
        "colab_type": "code",
        "id": "vx2kWaLPzonQ",
        "outputId": "a1ef9b0c-c6bb-4cdf-be5d-ed5bf64eacf2",
        "colab": {
          "base_uri": "https://localhost:8080/",
          "height": 68
        }
      },
      "cell_type": "code",
      "source": [
        "!ls"
      ],
      "execution_count": 0,
      "outputs": [
        {
          "output_type": "stream",
          "text": [
            " data\t   output\t\t    ssd_person.ipynb   test_videos   utils\n",
            " eval.py  'person with hog.ipynb'   ssd.py\t       train.ipynb   weights\n",
            " layers    __pycache__\t\t    test.py\t       train.py\n"
          ],
          "name": "stdout"
        }
      ]
    },
    {
      "metadata": {
        "colab_type": "code",
        "id": "eqwKfuU5zonS",
        "outputId": "a709c615-3a89-463f-8f22-b769fbe5ec03",
        "colab": {
          "base_uri": "https://localhost:8080/",
          "height": 68
        }
      },
      "cell_type": "code",
      "source": [
        "!ls"
      ],
      "execution_count": 0,
      "outputs": [
        {
          "output_type": "stream",
          "text": [
            " data\t   output\t\t    ssd_person.ipynb   test_videos   utils\n",
            " eval.py  'person with hog.ipynb'   ssd.py\t       train.ipynb   weights\n",
            " layers    __pycache__\t\t    test.py\t       train.py\n"
          ],
          "name": "stdout"
        }
      ]
    },
    {
      "metadata": {
        "colab_type": "code",
        "id": "BioVoNG2zonU",
        "outputId": "27772e8a-789c-4e6a-8458-e0c7efeda482",
        "colab": {
          "base_uri": "https://localhost:8080/",
          "height": 68
        }
      },
      "cell_type": "code",
      "source": [
        "!ls"
      ],
      "execution_count": 0,
      "outputs": [
        {
          "output_type": "stream",
          "text": [
            " data\t   output\t\t    ssd_person.ipynb   test_videos   utils\n",
            " eval.py  'person with hog.ipynb'   ssd.py\t       train.ipynb   weights\n",
            " layers    __pycache__\t\t    test.py\t       train.py\n"
          ],
          "name": "stdout"
        }
      ]
    },
    {
      "metadata": {
        "colab_type": "code",
        "id": "Egj11dG1zonW",
        "outputId": "f203259b-91fc-4a36-c7b8-66fedd324739",
        "colab": {
          "base_uri": "https://localhost:8080/",
          "height": 68
        }
      },
      "cell_type": "code",
      "source": [
        "!ls"
      ],
      "execution_count": 0,
      "outputs": [
        {
          "output_type": "stream",
          "text": [
            " data\t   output\t\t    ssd_person.ipynb   test_videos   utils\n",
            " eval.py  'person with hog.ipynb'   ssd.py\t       train.ipynb   weights\n",
            " layers    __pycache__\t\t    test.py\t       train.py\n"
          ],
          "name": "stdout"
        }
      ]
    },
    {
      "metadata": {
        "colab_type": "code",
        "id": "2K9ZabBHzonZ",
        "outputId": "32d763af-b950-4fc5-bb69-274d7d9176a6",
        "colab": {
          "base_uri": "https://localhost:8080/",
          "height": 68
        }
      },
      "cell_type": "code",
      "source": [
        "!ls"
      ],
      "execution_count": 0,
      "outputs": [
        {
          "output_type": "stream",
          "text": [
            " data\t   output\t\t    ssd_person.ipynb   test_videos   utils\n",
            " eval.py  'person with hog.ipynb'   ssd.py\t       train.ipynb   weights\n",
            " layers    __pycache__\t\t    test.py\t       train.py\n"
          ],
          "name": "stdout"
        }
      ]
    },
    {
      "metadata": {
        "colab_type": "code",
        "id": "wmSFWhoczond",
        "outputId": "cd091244-3790-432d-c8b3-a7cc0b32d92f",
        "colab": {
          "base_uri": "https://localhost:8080/",
          "height": 68
        }
      },
      "cell_type": "code",
      "source": [
        "!ls"
      ],
      "execution_count": 0,
      "outputs": [
        {
          "output_type": "stream",
          "text": [
            " data\t   output\t\t    ssd_person.ipynb   test_videos   utils\n",
            " eval.py  'person with hog.ipynb'   ssd.py\t       train.ipynb   weights\n",
            " layers    __pycache__\t\t    test.py\t       train.py\n"
          ],
          "name": "stdout"
        }
      ]
    },
    {
      "metadata": {
        "colab_type": "code",
        "id": "OlqdK_aDzonh",
        "outputId": "ab14d25f-caa2-4b09-bd6c-ffdd29fb8061",
        "colab": {
          "base_uri": "https://localhost:8080/",
          "height": 68
        }
      },
      "cell_type": "code",
      "source": [
        "!ls"
      ],
      "execution_count": 0,
      "outputs": [
        {
          "output_type": "stream",
          "text": [
            " data\t   output\t\t    ssd_person.ipynb   test_videos   utils\n",
            " eval.py  'person with hog.ipynb'   ssd.py\t       train.ipynb   weights\n",
            " layers    __pycache__\t\t    test.py\t       train.py\n"
          ],
          "name": "stdout"
        }
      ]
    },
    {
      "metadata": {
        "colab_type": "code",
        "id": "jZGo3AQBzonl",
        "outputId": "ae3bc4b9-84a2-4ad4-b9ce-c68d75df358f",
        "colab": {
          "base_uri": "https://localhost:8080/",
          "height": 68
        }
      },
      "cell_type": "code",
      "source": [
        "!ls"
      ],
      "execution_count": 0,
      "outputs": [
        {
          "output_type": "stream",
          "text": [
            " data\t   output\t\t    ssd_person.ipynb   test_videos   utils\n",
            " eval.py  'person with hog.ipynb'   ssd.py\t       train.ipynb   weights\n",
            " layers    __pycache__\t\t    test.py\t       train.py\n"
          ],
          "name": "stdout"
        }
      ]
    },
    {
      "metadata": {
        "colab_type": "code",
        "id": "X1o27MU4zono",
        "outputId": "07115d92-93a1-46f1-cfe6-a2ef06228914",
        "colab": {
          "base_uri": "https://localhost:8080/",
          "height": 68
        }
      },
      "cell_type": "code",
      "source": [
        "!ls"
      ],
      "execution_count": 0,
      "outputs": [
        {
          "output_type": "stream",
          "text": [
            " data\t   output\t\t    ssd_person.ipynb   test_videos   utils\n",
            " eval.py  'person with hog.ipynb'   ssd.py\t       train.ipynb   weights\n",
            " layers    __pycache__\t\t    test.py\t       train.py\n"
          ],
          "name": "stdout"
        }
      ]
    },
    {
      "metadata": {
        "colab_type": "code",
        "id": "kds6rCaYzonv",
        "outputId": "a5ca5eb0-875e-40d7-9517-4973eeb60282",
        "colab": {
          "base_uri": "https://localhost:8080/",
          "height": 68
        }
      },
      "cell_type": "code",
      "source": [
        "!ls"
      ],
      "execution_count": 0,
      "outputs": [
        {
          "output_type": "stream",
          "text": [
            " data\t   output\t\t    ssd_person.ipynb   test_videos   utils\n",
            " eval.py  'person with hog.ipynb'   ssd.py\t       train.ipynb   weights\n",
            " layers    __pycache__\t\t    test.py\t       train.py\n"
          ],
          "name": "stdout"
        }
      ]
    },
    {
      "metadata": {
        "colab_type": "code",
        "id": "CpMyrLMEzon0",
        "outputId": "e4406b2a-829a-4e42-9764-fac082d96ca7",
        "colab": {
          "base_uri": "https://localhost:8080/",
          "height": 68
        }
      },
      "cell_type": "code",
      "source": [
        "!ls"
      ],
      "execution_count": 0,
      "outputs": [
        {
          "output_type": "stream",
          "text": [
            " data\t   output\t\t    ssd_person.ipynb   test_videos   utils\n",
            " eval.py  'person with hog.ipynb'   ssd.py\t       train.ipynb   weights\n",
            " layers    __pycache__\t\t    test.py\t       train.py\n"
          ],
          "name": "stdout"
        }
      ]
    },
    {
      "metadata": {
        "colab_type": "code",
        "id": "J4OP8sJ_zon6",
        "outputId": "fe670381-a7d0-46e0-cf42-7647c853d2b2",
        "colab": {
          "base_uri": "https://localhost:8080/",
          "height": 68
        }
      },
      "cell_type": "code",
      "source": [
        "!ls"
      ],
      "execution_count": 0,
      "outputs": [
        {
          "output_type": "stream",
          "text": [
            " data\t   output\t\t    ssd_person.ipynb   test_videos   utils\n",
            " eval.py  'person with hog.ipynb'   ssd.py\t       train.ipynb   weights\n",
            " layers    __pycache__\t\t    test.py\t       train.py\n"
          ],
          "name": "stdout"
        }
      ]
    },
    {
      "metadata": {
        "colab_type": "code",
        "id": "DuRLsfTizooF",
        "outputId": "e684cb80-3d3a-462b-b01f-92e4a5b841fd",
        "colab": {
          "base_uri": "https://localhost:8080/",
          "height": 68
        }
      },
      "cell_type": "code",
      "source": [
        "!ls"
      ],
      "execution_count": 0,
      "outputs": [
        {
          "output_type": "stream",
          "text": [
            " data\t   output\t\t    ssd_person.ipynb   test_videos   utils\n",
            " eval.py  'person with hog.ipynb'   ssd.py\t       train.ipynb   weights\n",
            " layers    __pycache__\t\t    test.py\t       train.py\n"
          ],
          "name": "stdout"
        }
      ]
    },
    {
      "metadata": {
        "colab_type": "code",
        "id": "U-fAe2vOzooI",
        "outputId": "0ae4dac4-051a-4af6-ddbf-9b23ba5777d9",
        "colab": {
          "base_uri": "https://localhost:8080/",
          "height": 68
        }
      },
      "cell_type": "code",
      "source": [
        "!ls"
      ],
      "execution_count": 0,
      "outputs": [
        {
          "output_type": "stream",
          "text": [
            " data\t   output\t\t    ssd_person.ipynb   test_videos   utils\n",
            " eval.py  'person with hog.ipynb'   ssd.py\t       train.ipynb   weights\n",
            " layers    __pycache__\t\t    test.py\t       train.py\n"
          ],
          "name": "stdout"
        }
      ]
    },
    {
      "metadata": {
        "colab_type": "code",
        "id": "_JeblRRdzooM",
        "outputId": "b8bd72d2-84ac-4d07-9a32-4b531de79f1b",
        "colab": {
          "base_uri": "https://localhost:8080/",
          "height": 68
        }
      },
      "cell_type": "code",
      "source": [
        "!ls"
      ],
      "execution_count": 0,
      "outputs": [
        {
          "output_type": "stream",
          "text": [
            " data\t   output\t\t    ssd_person.ipynb   test_videos   utils\n",
            " eval.py  'person with hog.ipynb'   ssd.py\t       train.ipynb   weights\n",
            " layers    __pycache__\t\t    test.py\t       train.py\n"
          ],
          "name": "stdout"
        }
      ]
    },
    {
      "metadata": {
        "colab_type": "code",
        "id": "2pT4JK44zooQ",
        "outputId": "827f6db7-31e7-4f4c-d8ce-2811908dbe90",
        "colab": {
          "base_uri": "https://localhost:8080/",
          "height": 68
        }
      },
      "cell_type": "code",
      "source": [
        "!ls"
      ],
      "execution_count": 0,
      "outputs": [
        {
          "output_type": "stream",
          "text": [
            " data\t   output\t\t    ssd_person.ipynb   test_videos   utils\n",
            " eval.py  'person with hog.ipynb'   ssd.py\t       train.ipynb   weights\n",
            " layers    __pycache__\t\t    test.py\t       train.py\n"
          ],
          "name": "stdout"
        }
      ]
    },
    {
      "metadata": {
        "colab_type": "code",
        "id": "fsOLwx5JzooU",
        "outputId": "18bcc6a8-9271-4aed-c658-cfd73a3f4f09",
        "colab": {
          "base_uri": "https://localhost:8080/",
          "height": 68
        }
      },
      "cell_type": "code",
      "source": [
        "!ls"
      ],
      "execution_count": 0,
      "outputs": [
        {
          "output_type": "stream",
          "text": [
            " data\t   output\t\t    ssd_person.ipynb   test_videos   utils\n",
            " eval.py  'person with hog.ipynb'   ssd.py\t       train.ipynb   weights\n",
            " layers    __pycache__\t\t    test.py\t       train.py\n"
          ],
          "name": "stdout"
        }
      ]
    },
    {
      "metadata": {
        "colab_type": "code",
        "id": "D1mNeV_Szqho",
        "outputId": "8b63aea7-6f4e-4040-dba9-2f81985e1343",
        "colab": {
          "base_uri": "https://localhost:8080/",
          "height": 68
        }
      },
      "cell_type": "code",
      "source": [
        "!ls"
      ],
      "execution_count": 0,
      "outputs": [
        {
          "output_type": "stream",
          "text": [
            " data\t   output\t\t    ssd_person.ipynb   test_videos   utils\n",
            " eval.py  'person with hog.ipynb'   ssd.py\t       train.ipynb   weights\n",
            " layers    __pycache__\t\t    test.py\t       train.py\n"
          ],
          "name": "stdout"
        }
      ]
    },
    {
      "metadata": {
        "colab_type": "code",
        "id": "XvsNbOnwzvqS",
        "outputId": "2ba628b0-2624-4845-81e7-2bb4e6e03302",
        "colab": {
          "base_uri": "https://localhost:8080/",
          "height": 68
        }
      },
      "cell_type": "code",
      "source": [
        "!ls"
      ],
      "execution_count": 0,
      "outputs": [
        {
          "output_type": "stream",
          "text": [
            " data\t   output\t\t    ssd_person.ipynb   test_videos   utils\n",
            " eval.py  'person with hog.ipynb'   ssd.py\t       train.ipynb   weights\n",
            " layers    __pycache__\t\t    test.py\t       train.py\n"
          ],
          "name": "stdout"
        }
      ]
    },
    {
      "metadata": {
        "colab_type": "code",
        "id": "7vmfkTcczvqa",
        "outputId": "551752a3-5973-4400-f5ae-36f9610bedea",
        "colab": {
          "base_uri": "https://localhost:8080/",
          "height": 68
        }
      },
      "cell_type": "code",
      "source": [
        "!ls"
      ],
      "execution_count": 0,
      "outputs": [
        {
          "output_type": "stream",
          "text": [
            " data\t   output\t\t    ssd_person.ipynb   test_videos   utils\n",
            " eval.py  'person with hog.ipynb'   ssd.py\t       train.ipynb   weights\n",
            " layers    __pycache__\t\t    test.py\t       train.py\n"
          ],
          "name": "stdout"
        }
      ]
    },
    {
      "metadata": {
        "colab_type": "code",
        "id": "wCIXjduozvqh",
        "outputId": "ad684851-155b-47d9-e382-06981cb5ac94",
        "colab": {
          "base_uri": "https://localhost:8080/",
          "height": 68
        }
      },
      "cell_type": "code",
      "source": [
        "!ls"
      ],
      "execution_count": 0,
      "outputs": [
        {
          "output_type": "stream",
          "text": [
            " data\t   output\t\t    ssd_person.ipynb   test_videos   utils\n",
            " eval.py  'person with hog.ipynb'   ssd.py\t       train.ipynb   weights\n",
            " layers    __pycache__\t\t    test.py\t       train.py\n"
          ],
          "name": "stdout"
        }
      ]
    },
    {
      "metadata": {
        "colab_type": "code",
        "id": "OzoyNZikzvqp",
        "outputId": "97209e53-cf47-4921-cda6-263760ff41a7",
        "colab": {
          "base_uri": "https://localhost:8080/",
          "height": 68
        }
      },
      "cell_type": "code",
      "source": [
        "!ls"
      ],
      "execution_count": 0,
      "outputs": [
        {
          "output_type": "stream",
          "text": [
            " data\t   output\t\t    ssd_person.ipynb   test_videos   utils\n",
            " eval.py  'person with hog.ipynb'   ssd.py\t       train.ipynb   weights\n",
            " layers    __pycache__\t\t    test.py\t       train.py\n"
          ],
          "name": "stdout"
        }
      ]
    },
    {
      "metadata": {
        "colab_type": "code",
        "id": "4LjuGIypzvqw",
        "outputId": "72eb798f-996c-4a83-d38c-4cb57132f870",
        "colab": {
          "base_uri": "https://localhost:8080/",
          "height": 68
        }
      },
      "cell_type": "code",
      "source": [
        "!ls"
      ],
      "execution_count": 0,
      "outputs": [
        {
          "output_type": "stream",
          "text": [
            " data\t   output\t\t    ssd_person.ipynb   test_videos   utils\n",
            " eval.py  'person with hog.ipynb'   ssd.py\t       train.ipynb   weights\n",
            " layers    __pycache__\t\t    test.py\t       train.py\n"
          ],
          "name": "stdout"
        }
      ]
    },
    {
      "metadata": {
        "colab_type": "code",
        "id": "7ueeCHitzvq0",
        "outputId": "033eff7d-404d-4f17-95f6-fd90463be1c1",
        "colab": {
          "base_uri": "https://localhost:8080/",
          "height": 68
        }
      },
      "cell_type": "code",
      "source": [
        "!ls"
      ],
      "execution_count": 0,
      "outputs": [
        {
          "output_type": "stream",
          "text": [
            " data\t   output\t\t    ssd_person.ipynb   test_videos   utils\n",
            " eval.py  'person with hog.ipynb'   ssd.py\t       train.ipynb   weights\n",
            " layers    __pycache__\t\t    test.py\t       train.py\n"
          ],
          "name": "stdout"
        }
      ]
    },
    {
      "metadata": {
        "colab_type": "code",
        "id": "FZbGLdW8zvq6",
        "outputId": "dcfbd19d-1097-4c20-bc60-4a215e8c1913",
        "colab": {
          "base_uri": "https://localhost:8080/",
          "height": 68
        }
      },
      "cell_type": "code",
      "source": [
        "!ls"
      ],
      "execution_count": 0,
      "outputs": [
        {
          "output_type": "stream",
          "text": [
            " data\t   output\t\t    ssd_person.ipynb   test_videos   utils\n",
            " eval.py  'person with hog.ipynb'   ssd.py\t       train.ipynb   weights\n",
            " layers    __pycache__\t\t    test.py\t       train.py\n"
          ],
          "name": "stdout"
        }
      ]
    },
    {
      "metadata": {
        "colab_type": "code",
        "id": "Gvp92mNPzvrA",
        "outputId": "411e9a3b-023c-456d-a404-3e359d595751",
        "colab": {
          "base_uri": "https://localhost:8080/",
          "height": 68
        }
      },
      "cell_type": "code",
      "source": [
        "!ls"
      ],
      "execution_count": 0,
      "outputs": [
        {
          "output_type": "stream",
          "text": [
            " data\t   output\t\t    ssd_person.ipynb   test_videos   utils\n",
            " eval.py  'person with hog.ipynb'   ssd.py\t       train.ipynb   weights\n",
            " layers    __pycache__\t\t    test.py\t       train.py\n"
          ],
          "name": "stdout"
        }
      ]
    },
    {
      "metadata": {
        "colab_type": "code",
        "id": "frPUA5EBzvrE",
        "outputId": "72c054ea-6199-45d9-edc7-e29ed4658650",
        "colab": {
          "base_uri": "https://localhost:8080/",
          "height": 68
        }
      },
      "cell_type": "code",
      "source": [
        "!ls"
      ],
      "execution_count": 0,
      "outputs": [
        {
          "output_type": "stream",
          "text": [
            " data\t   output\t\t    ssd_person.ipynb   test_videos   utils\n",
            " eval.py  'person with hog.ipynb'   ssd.py\t       train.ipynb   weights\n",
            " layers    __pycache__\t\t    test.py\t       train.py\n"
          ],
          "name": "stdout"
        }
      ]
    },
    {
      "metadata": {
        "colab_type": "code",
        "id": "w-UV4iEIzvrI",
        "outputId": "0cc233f5-988d-46f9-86bd-d770c132540c",
        "colab": {
          "base_uri": "https://localhost:8080/",
          "height": 68
        }
      },
      "cell_type": "code",
      "source": [
        "!ls"
      ],
      "execution_count": 0,
      "outputs": [
        {
          "output_type": "stream",
          "text": [
            " data\t   output\t\t    ssd_person.ipynb   test_videos   utils\n",
            " eval.py  'person with hog.ipynb'   ssd.py\t       train.ipynb   weights\n",
            " layers    __pycache__\t\t    test.py\t       train.py\n"
          ],
          "name": "stdout"
        }
      ]
    },
    {
      "metadata": {
        "colab_type": "code",
        "id": "7LnUnPhZzvrK",
        "outputId": "da3b2061-9a55-4a42-8353-f894411ff47d",
        "colab": {
          "base_uri": "https://localhost:8080/",
          "height": 68
        }
      },
      "cell_type": "code",
      "source": [
        "!ls"
      ],
      "execution_count": 0,
      "outputs": [
        {
          "output_type": "stream",
          "text": [
            " data\t   output\t\t    ssd_person.ipynb   test_videos   utils\n",
            " eval.py  'person with hog.ipynb'   ssd.py\t       train.ipynb   weights\n",
            " layers    __pycache__\t\t    test.py\t       train.py\n"
          ],
          "name": "stdout"
        }
      ]
    },
    {
      "metadata": {
        "colab_type": "code",
        "id": "DTHjmcqezvrN",
        "outputId": "8d7872e5-49ae-493e-ae74-be42a655eb0a",
        "colab": {
          "base_uri": "https://localhost:8080/",
          "height": 68
        }
      },
      "cell_type": "code",
      "source": [
        "!ls"
      ],
      "execution_count": 0,
      "outputs": [
        {
          "output_type": "stream",
          "text": [
            " data\t   output\t\t    ssd_person.ipynb   test_videos   utils\n",
            " eval.py  'person with hog.ipynb'   ssd.py\t       train.ipynb   weights\n",
            " layers    __pycache__\t\t    test.py\t       train.py\n"
          ],
          "name": "stdout"
        }
      ]
    },
    {
      "metadata": {
        "colab_type": "code",
        "id": "7y0PDGa7zvrP",
        "outputId": "15059941-95c5-4794-86c5-3b5b4edd3110",
        "colab": {
          "base_uri": "https://localhost:8080/",
          "height": 68
        }
      },
      "cell_type": "code",
      "source": [
        "!ls"
      ],
      "execution_count": 0,
      "outputs": [
        {
          "output_type": "stream",
          "text": [
            " data\t   output\t\t    ssd_person.ipynb   test_videos   utils\n",
            " eval.py  'person with hog.ipynb'   ssd.py\t       train.ipynb   weights\n",
            " layers    __pycache__\t\t    test.py\t       train.py\n"
          ],
          "name": "stdout"
        }
      ]
    },
    {
      "metadata": {
        "colab_type": "code",
        "id": "zBoYU-EdzvrR",
        "outputId": "1cf68ad5-377a-4932-d2f6-beec6fcb494b",
        "colab": {
          "base_uri": "https://localhost:8080/",
          "height": 68
        }
      },
      "cell_type": "code",
      "source": [
        "!ls"
      ],
      "execution_count": 0,
      "outputs": [
        {
          "output_type": "stream",
          "text": [
            " data\t   output\t\t    ssd_person.ipynb   test_videos   utils\n",
            " eval.py  'person with hog.ipynb'   ssd.py\t       train.ipynb   weights\n",
            " layers    __pycache__\t\t    test.py\t       train.py\n"
          ],
          "name": "stdout"
        }
      ]
    },
    {
      "metadata": {
        "colab_type": "code",
        "id": "RUy236TmzvrS",
        "outputId": "5788db9f-0579-4841-837b-cf62a19c6917",
        "colab": {
          "base_uri": "https://localhost:8080/",
          "height": 68
        }
      },
      "cell_type": "code",
      "source": [
        "!ls"
      ],
      "execution_count": 0,
      "outputs": [
        {
          "output_type": "stream",
          "text": [
            " data\t   output\t\t    ssd_person.ipynb   test_videos   utils\n",
            " eval.py  'person with hog.ipynb'   ssd.py\t       train.ipynb   weights\n",
            " layers    __pycache__\t\t    test.py\t       train.py\n"
          ],
          "name": "stdout"
        }
      ]
    },
    {
      "metadata": {
        "colab_type": "code",
        "id": "udjJLO0nzvrU",
        "outputId": "32f6d162-c15a-48dd-8058-467d911a9ce8",
        "colab": {
          "base_uri": "https://localhost:8080/",
          "height": 68
        }
      },
      "cell_type": "code",
      "source": [
        "!ls"
      ],
      "execution_count": 0,
      "outputs": [
        {
          "output_type": "stream",
          "text": [
            " data\t   output\t\t    ssd_person.ipynb   test_videos   utils\n",
            " eval.py  'person with hog.ipynb'   ssd.py\t       train.ipynb   weights\n",
            " layers    __pycache__\t\t    test.py\t       train.py\n"
          ],
          "name": "stdout"
        }
      ]
    },
    {
      "metadata": {
        "colab_type": "code",
        "id": "Z4hmLecWzvrX",
        "outputId": "c1f05b4f-b834-4d5b-baf5-6e55cc8d29c9",
        "colab": {
          "base_uri": "https://localhost:8080/",
          "height": 68
        }
      },
      "cell_type": "code",
      "source": [
        "!ls"
      ],
      "execution_count": 0,
      "outputs": [
        {
          "output_type": "stream",
          "text": [
            " data\t   output\t\t    ssd_person.ipynb   test_videos   utils\n",
            " eval.py  'person with hog.ipynb'   ssd.py\t       train.ipynb   weights\n",
            " layers    __pycache__\t\t    test.py\t       train.py\n"
          ],
          "name": "stdout"
        }
      ]
    },
    {
      "metadata": {
        "colab_type": "code",
        "id": "djsSiOG9zvrZ",
        "outputId": "15a68289-3b8b-4237-d554-01b8c76b7c3e",
        "colab": {
          "base_uri": "https://localhost:8080/",
          "height": 68
        }
      },
      "cell_type": "code",
      "source": [
        "!ls"
      ],
      "execution_count": 0,
      "outputs": [
        {
          "output_type": "stream",
          "text": [
            " data\t   output\t\t    ssd_person.ipynb   test_videos   utils\n",
            " eval.py  'person with hog.ipynb'   ssd.py\t       train.ipynb   weights\n",
            " layers    __pycache__\t\t    test.py\t       train.py\n"
          ],
          "name": "stdout"
        }
      ]
    },
    {
      "metadata": {
        "colab_type": "code",
        "id": "kQLyRQFIzvrb",
        "outputId": "ab4df2c4-85ff-4529-c951-d980a1bfa7c0",
        "colab": {
          "base_uri": "https://localhost:8080/",
          "height": 68
        }
      },
      "cell_type": "code",
      "source": [
        "!ls"
      ],
      "execution_count": 0,
      "outputs": [
        {
          "output_type": "stream",
          "text": [
            " data\t   output\t\t    ssd_person.ipynb   test_videos   utils\n",
            " eval.py  'person with hog.ipynb'   ssd.py\t       train.ipynb   weights\n",
            " layers    __pycache__\t\t    test.py\t       train.py\n"
          ],
          "name": "stdout"
        }
      ]
    },
    {
      "metadata": {
        "colab_type": "code",
        "id": "L-rWg7j7zvrd",
        "outputId": "e8e10eb2-f356-43dc-a641-bd2c129a66dd",
        "colab": {
          "base_uri": "https://localhost:8080/",
          "height": 68
        }
      },
      "cell_type": "code",
      "source": [
        "!ls"
      ],
      "execution_count": 0,
      "outputs": [
        {
          "output_type": "stream",
          "text": [
            " data\t   output\t\t    ssd_person.ipynb   test_videos   utils\n",
            " eval.py  'person with hog.ipynb'   ssd.py\t       train.ipynb   weights\n",
            " layers    __pycache__\t\t    test.py\t       train.py\n"
          ],
          "name": "stdout"
        }
      ]
    },
    {
      "metadata": {
        "colab_type": "code",
        "id": "yLcCLwLIzvrf",
        "outputId": "c2b8608b-e23a-4dbb-fd96-dc9a6a756fea",
        "colab": {
          "base_uri": "https://localhost:8080/",
          "height": 68
        }
      },
      "cell_type": "code",
      "source": [
        "!ls"
      ],
      "execution_count": 0,
      "outputs": [
        {
          "output_type": "stream",
          "text": [
            " data\t   output\t\t    ssd_person.ipynb   test_videos   utils\n",
            " eval.py  'person with hog.ipynb'   ssd.py\t       train.ipynb   weights\n",
            " layers    __pycache__\t\t    test.py\t       train.py\n"
          ],
          "name": "stdout"
        }
      ]
    },
    {
      "metadata": {
        "colab_type": "code",
        "id": "9ADCyBaazvrj",
        "outputId": "3c4adae6-a12d-4d92-d435-dc8d93987ce0",
        "colab": {
          "base_uri": "https://localhost:8080/",
          "height": 68
        }
      },
      "cell_type": "code",
      "source": [
        "!ls"
      ],
      "execution_count": 0,
      "outputs": [
        {
          "output_type": "stream",
          "text": [
            " data\t   output\t\t    ssd_person.ipynb   test_videos   utils\n",
            " eval.py  'person with hog.ipynb'   ssd.py\t       train.ipynb   weights\n",
            " layers    __pycache__\t\t    test.py\t       train.py\n"
          ],
          "name": "stdout"
        }
      ]
    },
    {
      "metadata": {
        "colab_type": "code",
        "id": "Fpg7DLlqzvrk",
        "outputId": "05932036-dcd7-40ac-be5a-0ef9db310eca",
        "colab": {
          "base_uri": "https://localhost:8080/",
          "height": 68
        }
      },
      "cell_type": "code",
      "source": [
        "!ls"
      ],
      "execution_count": 0,
      "outputs": [
        {
          "output_type": "stream",
          "text": [
            " data\t   output\t\t    ssd_person.ipynb   test_videos   utils\n",
            " eval.py  'person with hog.ipynb'   ssd.py\t       train.ipynb   weights\n",
            " layers    __pycache__\t\t    test.py\t       train.py\n"
          ],
          "name": "stdout"
        }
      ]
    },
    {
      "metadata": {
        "colab_type": "code",
        "id": "1kZEk1tszvrm",
        "outputId": "6125ba5c-353a-4795-9c9b-f233e196c93c",
        "colab": {
          "base_uri": "https://localhost:8080/",
          "height": 68
        }
      },
      "cell_type": "code",
      "source": [
        "!ls"
      ],
      "execution_count": 0,
      "outputs": [
        {
          "output_type": "stream",
          "text": [
            " data\t   output\t\t    ssd_person.ipynb   test_videos   utils\n",
            " eval.py  'person with hog.ipynb'   ssd.py\t       train.ipynb   weights\n",
            " layers    __pycache__\t\t    test.py\t       train.py\n"
          ],
          "name": "stdout"
        }
      ]
    },
    {
      "metadata": {
        "colab_type": "code",
        "id": "Y7lNrRhzzvrn",
        "outputId": "2604d939-dc09-4fb0-c9ac-43c944328c81",
        "colab": {
          "base_uri": "https://localhost:8080/",
          "height": 68
        }
      },
      "cell_type": "code",
      "source": [
        "!ls"
      ],
      "execution_count": 0,
      "outputs": [
        {
          "output_type": "stream",
          "text": [
            " data\t   output\t\t    ssd_person.ipynb   test_videos   utils\n",
            " eval.py  'person with hog.ipynb'   ssd.py\t       train.ipynb   weights\n",
            " layers    __pycache__\t\t    test.py\t       train.py\n"
          ],
          "name": "stdout"
        }
      ]
    },
    {
      "metadata": {
        "colab_type": "code",
        "id": "vBfZrxAyzvrp",
        "outputId": "4eff90ae-35b3-4ea4-c73c-ff3d3e039a5a",
        "colab": {
          "base_uri": "https://localhost:8080/",
          "height": 68
        }
      },
      "cell_type": "code",
      "source": [
        "!ls"
      ],
      "execution_count": 0,
      "outputs": [
        {
          "output_type": "stream",
          "text": [
            " data\t   output\t\t    ssd_person.ipynb   test_videos   utils\n",
            " eval.py  'person with hog.ipynb'   ssd.py\t       train.ipynb   weights\n",
            " layers    __pycache__\t\t    test.py\t       train.py\n"
          ],
          "name": "stdout"
        }
      ]
    },
    {
      "metadata": {
        "colab_type": "code",
        "id": "Nc_zgDDHzvrr",
        "outputId": "574041c1-95db-4b98-ee36-6f2ff1932ff9",
        "colab": {
          "base_uri": "https://localhost:8080/",
          "height": 68
        }
      },
      "cell_type": "code",
      "source": [
        "!ls"
      ],
      "execution_count": 0,
      "outputs": [
        {
          "output_type": "stream",
          "text": [
            " data\t   output\t\t    ssd_person.ipynb   test_videos   utils\n",
            " eval.py  'person with hog.ipynb'   ssd.py\t       train.ipynb   weights\n",
            " layers    __pycache__\t\t    test.py\t       train.py\n"
          ],
          "name": "stdout"
        }
      ]
    },
    {
      "metadata": {
        "colab_type": "code",
        "id": "93UBGRw0zvru",
        "outputId": "b8074381-ec1b-453e-db9e-41333c0080d3",
        "colab": {
          "base_uri": "https://localhost:8080/",
          "height": 68
        }
      },
      "cell_type": "code",
      "source": [
        "!ls"
      ],
      "execution_count": 0,
      "outputs": [
        {
          "output_type": "stream",
          "text": [
            " data\t   output\t\t    ssd_person.ipynb   test_videos   utils\n",
            " eval.py  'person with hog.ipynb'   ssd.py\t       train.ipynb   weights\n",
            " layers    __pycache__\t\t    test.py\t       train.py\n"
          ],
          "name": "stdout"
        }
      ]
    },
    {
      "metadata": {
        "colab_type": "code",
        "id": "vHQLuhlAzvrv",
        "outputId": "1fbb76d4-f0b2-4207-8fb1-71b4b1901271",
        "colab": {
          "base_uri": "https://localhost:8080/",
          "height": 68
        }
      },
      "cell_type": "code",
      "source": [
        "!ls"
      ],
      "execution_count": 0,
      "outputs": [
        {
          "output_type": "stream",
          "text": [
            " data\t   output\t\t    ssd_person.ipynb   test_videos   utils\n",
            " eval.py  'person with hog.ipynb'   ssd.py\t       train.ipynb   weights\n",
            " layers    __pycache__\t\t    test.py\t       train.py\n"
          ],
          "name": "stdout"
        }
      ]
    },
    {
      "metadata": {
        "colab_type": "code",
        "id": "wqgwcQ5lzqhw",
        "outputId": "fc9439a2-5cc9-4603-f094-1679c7bd23dd",
        "colab": {
          "base_uri": "https://localhost:8080/",
          "height": 68
        }
      },
      "cell_type": "code",
      "source": [
        "!ls"
      ],
      "execution_count": 0,
      "outputs": [
        {
          "output_type": "stream",
          "text": [
            " data\t   output\t\t    ssd_person.ipynb   test_videos   utils\n",
            " eval.py  'person with hog.ipynb'   ssd.py\t       train.ipynb   weights\n",
            " layers    __pycache__\t\t    test.py\t       train.py\n"
          ],
          "name": "stdout"
        }
      ]
    },
    {
      "metadata": {
        "colab_type": "code",
        "id": "IoyAffbszqh2",
        "outputId": "f168be82-af5d-494f-c483-ff1d1c4fe9cb",
        "colab": {
          "base_uri": "https://localhost:8080/",
          "height": 68
        }
      },
      "cell_type": "code",
      "source": [
        "!ls"
      ],
      "execution_count": 0,
      "outputs": [
        {
          "output_type": "stream",
          "text": [
            " data\t   output\t\t    ssd_person.ipynb   test_videos   utils\n",
            " eval.py  'person with hog.ipynb'   ssd.py\t       train.ipynb   weights\n",
            " layers    __pycache__\t\t    test.py\t       train.py\n"
          ],
          "name": "stdout"
        }
      ]
    },
    {
      "metadata": {
        "colab_type": "code",
        "id": "evVstXdszqh8",
        "outputId": "27b4f484-e367-40de-d77a-71ba6454d1f2",
        "colab": {
          "base_uri": "https://localhost:8080/",
          "height": 68
        }
      },
      "cell_type": "code",
      "source": [
        "!ls"
      ],
      "execution_count": 0,
      "outputs": [
        {
          "output_type": "stream",
          "text": [
            " data\t   output\t\t    ssd_person.ipynb   test_videos   utils\n",
            " eval.py  'person with hog.ipynb'   ssd.py\t       train.ipynb   weights\n",
            " layers    __pycache__\t\t    test.py\t       train.py\n"
          ],
          "name": "stdout"
        }
      ]
    },
    {
      "metadata": {
        "colab_type": "code",
        "id": "brYa5z2mzqiB",
        "outputId": "4c73d6d3-7618-4b6e-84fe-6aae882b6b5d",
        "colab": {
          "base_uri": "https://localhost:8080/",
          "height": 68
        }
      },
      "cell_type": "code",
      "source": [
        "!ls"
      ],
      "execution_count": 0,
      "outputs": [
        {
          "output_type": "stream",
          "text": [
            " data\t   output\t\t    ssd_person.ipynb   test_videos   utils\n",
            " eval.py  'person with hog.ipynb'   ssd.py\t       train.ipynb   weights\n",
            " layers    __pycache__\t\t    test.py\t       train.py\n"
          ],
          "name": "stdout"
        }
      ]
    },
    {
      "metadata": {
        "colab_type": "code",
        "id": "TM9IFYhzzqiK",
        "outputId": "d2172041-38a4-470e-d970-e36f78aed0fb",
        "colab": {
          "base_uri": "https://localhost:8080/",
          "height": 68
        }
      },
      "cell_type": "code",
      "source": [
        "!ls"
      ],
      "execution_count": 0,
      "outputs": [
        {
          "output_type": "stream",
          "text": [
            " data\t   output\t\t    ssd_person.ipynb   test_videos   utils\n",
            " eval.py  'person with hog.ipynb'   ssd.py\t       train.ipynb   weights\n",
            " layers    __pycache__\t\t    test.py\t       train.py\n"
          ],
          "name": "stdout"
        }
      ]
    },
    {
      "metadata": {
        "colab_type": "code",
        "id": "Ihp4vapNzqiO",
        "outputId": "9e0b15f2-9ca8-4cc2-a92d-3fd61b747585",
        "colab": {
          "base_uri": "https://localhost:8080/",
          "height": 68
        }
      },
      "cell_type": "code",
      "source": [
        "!ls"
      ],
      "execution_count": 0,
      "outputs": [
        {
          "output_type": "stream",
          "text": [
            " data\t   output\t\t    ssd_person.ipynb   test_videos   utils\n",
            " eval.py  'person with hog.ipynb'   ssd.py\t       train.ipynb   weights\n",
            " layers    __pycache__\t\t    test.py\t       train.py\n"
          ],
          "name": "stdout"
        }
      ]
    },
    {
      "metadata": {
        "colab_type": "code",
        "id": "bgTkE7iLzqiS",
        "outputId": "c9580bbf-aade-4009-c8dd-02285fff8f80",
        "colab": {
          "base_uri": "https://localhost:8080/",
          "height": 68
        }
      },
      "cell_type": "code",
      "source": [
        "!ls"
      ],
      "execution_count": 0,
      "outputs": [
        {
          "output_type": "stream",
          "text": [
            " data\t   output\t\t    ssd_person.ipynb   test_videos   utils\n",
            " eval.py  'person with hog.ipynb'   ssd.py\t       train.ipynb   weights\n",
            " layers    __pycache__\t\t    test.py\t       train.py\n"
          ],
          "name": "stdout"
        }
      ]
    },
    {
      "metadata": {
        "colab_type": "code",
        "id": "VVrBFFYwzqiW",
        "outputId": "43944ddb-ef7d-45ea-b7c6-0b6e70f88394",
        "colab": {
          "base_uri": "https://localhost:8080/",
          "height": 68
        }
      },
      "cell_type": "code",
      "source": [
        "!ls"
      ],
      "execution_count": 0,
      "outputs": [
        {
          "output_type": "stream",
          "text": [
            " data\t   output\t\t    ssd_person.ipynb   test_videos   utils\n",
            " eval.py  'person with hog.ipynb'   ssd.py\t       train.ipynb   weights\n",
            " layers    __pycache__\t\t    test.py\t       train.py\n"
          ],
          "name": "stdout"
        }
      ]
    },
    {
      "metadata": {
        "colab_type": "code",
        "id": "BbOcaV6GzqiY",
        "outputId": "f7895f62-95d8-4972-93fd-0f38bdc7fb5e",
        "colab": {
          "base_uri": "https://localhost:8080/",
          "height": 68
        }
      },
      "cell_type": "code",
      "source": [
        "!ls"
      ],
      "execution_count": 0,
      "outputs": [
        {
          "output_type": "stream",
          "text": [
            " data\t   output\t\t    ssd_person.ipynb   test_videos   utils\n",
            " eval.py  'person with hog.ipynb'   ssd.py\t       train.ipynb   weights\n",
            " layers    __pycache__\t\t    test.py\t       train.py\n"
          ],
          "name": "stdout"
        }
      ]
    },
    {
      "metadata": {
        "colab_type": "code",
        "id": "TAxz5OA-zqia",
        "outputId": "3bb7d2a3-de4b-4c45-914c-6e868d5dd75e",
        "colab": {
          "base_uri": "https://localhost:8080/",
          "height": 68
        }
      },
      "cell_type": "code",
      "source": [
        "!ls"
      ],
      "execution_count": 0,
      "outputs": [
        {
          "output_type": "stream",
          "text": [
            " data\t   output\t\t    ssd_person.ipynb   test_videos   utils\n",
            " eval.py  'person with hog.ipynb'   ssd.py\t       train.ipynb   weights\n",
            " layers    __pycache__\t\t    test.py\t       train.py\n"
          ],
          "name": "stdout"
        }
      ]
    },
    {
      "metadata": {
        "colab_type": "code",
        "id": "4npL7coKzqib",
        "outputId": "0e2e903d-3d52-4102-8161-a899b6cb010d",
        "colab": {
          "base_uri": "https://localhost:8080/",
          "height": 68
        }
      },
      "cell_type": "code",
      "source": [
        "!ls"
      ],
      "execution_count": 0,
      "outputs": [
        {
          "output_type": "stream",
          "text": [
            " data\t   output\t\t    ssd_person.ipynb   test_videos   utils\n",
            " eval.py  'person with hog.ipynb'   ssd.py\t       train.ipynb   weights\n",
            " layers    __pycache__\t\t    test.py\t       train.py\n"
          ],
          "name": "stdout"
        }
      ]
    },
    {
      "metadata": {
        "colab_type": "code",
        "id": "NkMscez3zqie",
        "outputId": "21e74026-7cd5-4854-d479-a0db71b64ea6",
        "colab": {
          "base_uri": "https://localhost:8080/",
          "height": 68
        }
      },
      "cell_type": "code",
      "source": [
        "!ls"
      ],
      "execution_count": 0,
      "outputs": [
        {
          "output_type": "stream",
          "text": [
            " data\t   output\t\t    ssd_person.ipynb   test_videos   utils\n",
            " eval.py  'person with hog.ipynb'   ssd.py\t       train.ipynb   weights\n",
            " layers    __pycache__\t\t    test.py\t       train.py\n"
          ],
          "name": "stdout"
        }
      ]
    },
    {
      "metadata": {
        "colab_type": "code",
        "id": "F7WuhVMLzqif",
        "outputId": "ed28946e-024d-4dc7-fade-30ac021463ce",
        "colab": {
          "base_uri": "https://localhost:8080/",
          "height": 68
        }
      },
      "cell_type": "code",
      "source": [
        "!ls"
      ],
      "execution_count": 0,
      "outputs": [
        {
          "output_type": "stream",
          "text": [
            " data\t   output\t\t    ssd_person.ipynb   test_videos   utils\n",
            " eval.py  'person with hog.ipynb'   ssd.py\t       train.ipynb   weights\n",
            " layers    __pycache__\t\t    test.py\t       train.py\n"
          ],
          "name": "stdout"
        }
      ]
    },
    {
      "metadata": {
        "colab_type": "code",
        "id": "koSa0KUPzqih",
        "outputId": "5566713b-84bb-462f-cd2a-f7b9d27849c7",
        "colab": {
          "base_uri": "https://localhost:8080/",
          "height": 68
        }
      },
      "cell_type": "code",
      "source": [
        "!ls"
      ],
      "execution_count": 0,
      "outputs": [
        {
          "output_type": "stream",
          "text": [
            " data\t   output\t\t    ssd_person.ipynb   test_videos   utils\n",
            " eval.py  'person with hog.ipynb'   ssd.py\t       train.ipynb   weights\n",
            " layers    __pycache__\t\t    test.py\t       train.py\n"
          ],
          "name": "stdout"
        }
      ]
    },
    {
      "metadata": {
        "colab_type": "code",
        "id": "aaS1Zs49zqii",
        "outputId": "78fe2196-b064-42e6-85ac-6eacbf28caf5",
        "colab": {
          "base_uri": "https://localhost:8080/",
          "height": 68
        }
      },
      "cell_type": "code",
      "source": [
        "!ls"
      ],
      "execution_count": 0,
      "outputs": [
        {
          "output_type": "stream",
          "text": [
            " data\t   output\t\t    ssd_person.ipynb   test_videos   utils\n",
            " eval.py  'person with hog.ipynb'   ssd.py\t       train.ipynb   weights\n",
            " layers    __pycache__\t\t    test.py\t       train.py\n"
          ],
          "name": "stdout"
        }
      ]
    },
    {
      "metadata": {
        "colab_type": "code",
        "id": "Lm9QHlxjzqij",
        "outputId": "dbd3295f-6fd5-4812-a476-fe966ff8565e",
        "colab": {
          "base_uri": "https://localhost:8080/",
          "height": 68
        }
      },
      "cell_type": "code",
      "source": [
        "!ls"
      ],
      "execution_count": 0,
      "outputs": [
        {
          "output_type": "stream",
          "text": [
            " data\t   output\t\t    ssd_person.ipynb   test_videos   utils\n",
            " eval.py  'person with hog.ipynb'   ssd.py\t       train.ipynb   weights\n",
            " layers    __pycache__\t\t    test.py\t       train.py\n"
          ],
          "name": "stdout"
        }
      ]
    },
    {
      "metadata": {
        "colab_type": "code",
        "id": "4MdgrZc6zqir",
        "outputId": "dc139871-95a5-4ac6-9ae3-99385584eb18",
        "colab": {
          "base_uri": "https://localhost:8080/",
          "height": 68
        }
      },
      "cell_type": "code",
      "source": [
        "!ls"
      ],
      "execution_count": 0,
      "outputs": [
        {
          "output_type": "stream",
          "text": [
            " data\t   output\t\t    ssd_person.ipynb   test_videos   utils\n",
            " eval.py  'person with hog.ipynb'   ssd.py\t       train.ipynb   weights\n",
            " layers    __pycache__\t\t    test.py\t       train.py\n"
          ],
          "name": "stdout"
        }
      ]
    },
    {
      "metadata": {
        "colab_type": "code",
        "id": "sKev5yhizqit",
        "outputId": "e2ebab0f-1842-424d-903e-c5e6f4d07829",
        "colab": {
          "base_uri": "https://localhost:8080/",
          "height": 68
        }
      },
      "cell_type": "code",
      "source": [
        "!ls"
      ],
      "execution_count": 0,
      "outputs": [
        {
          "output_type": "stream",
          "text": [
            " data\t   output\t\t    ssd_person.ipynb   test_videos   utils\n",
            " eval.py  'person with hog.ipynb'   ssd.py\t       train.ipynb   weights\n",
            " layers    __pycache__\t\t    test.py\t       train.py\n"
          ],
          "name": "stdout"
        }
      ]
    },
    {
      "metadata": {
        "colab_type": "code",
        "id": "EgNyBfdyzqiv",
        "outputId": "79f18e82-52ff-4151-9ae2-a4c93ff8a703",
        "colab": {
          "base_uri": "https://localhost:8080/",
          "height": 68
        }
      },
      "cell_type": "code",
      "source": [
        "!ls"
      ],
      "execution_count": 0,
      "outputs": [
        {
          "output_type": "stream",
          "text": [
            " data\t   output\t\t    ssd_person.ipynb   test_videos   utils\n",
            " eval.py  'person with hog.ipynb'   ssd.py\t       train.ipynb   weights\n",
            " layers    __pycache__\t\t    test.py\t       train.py\n"
          ],
          "name": "stdout"
        }
      ]
    },
    {
      "metadata": {
        "colab_type": "code",
        "id": "pH3VwN6Uzqiy",
        "outputId": "bd395b32-0264-40ac-9d5f-7d13932931b1",
        "colab": {
          "base_uri": "https://localhost:8080/",
          "height": 68
        }
      },
      "cell_type": "code",
      "source": [
        "!ls"
      ],
      "execution_count": 0,
      "outputs": [
        {
          "output_type": "stream",
          "text": [
            " data\t   output\t\t    ssd_person.ipynb   test_videos   utils\n",
            " eval.py  'person with hog.ipynb'   ssd.py\t       train.ipynb   weights\n",
            " layers    __pycache__\t\t    test.py\t       train.py\n"
          ],
          "name": "stdout"
        }
      ]
    },
    {
      "metadata": {
        "colab_type": "code",
        "id": "yIKza3_0zqi1",
        "outputId": "6d55b212-beab-486b-9993-15225667f31d",
        "colab": {
          "base_uri": "https://localhost:8080/",
          "height": 68
        }
      },
      "cell_type": "code",
      "source": [
        "!ls"
      ],
      "execution_count": 0,
      "outputs": [
        {
          "output_type": "stream",
          "text": [
            " data\t   output\t\t    ssd_person.ipynb   test_videos   utils\n",
            " eval.py  'person with hog.ipynb'   ssd.py\t       train.ipynb   weights\n",
            " layers    __pycache__\t\t    test.py\t       train.py\n"
          ],
          "name": "stdout"
        }
      ]
    },
    {
      "metadata": {
        "colab_type": "code",
        "id": "WVLTtSiUzqi4",
        "outputId": "db9d27e3-d73a-48f8-e807-b9913e654ba4",
        "colab": {
          "base_uri": "https://localhost:8080/",
          "height": 68
        }
      },
      "cell_type": "code",
      "source": [
        "!ls"
      ],
      "execution_count": 0,
      "outputs": [
        {
          "output_type": "stream",
          "text": [
            " data\t   output\t\t    ssd_person.ipynb   test_videos   utils\n",
            " eval.py  'person with hog.ipynb'   ssd.py\t       train.ipynb   weights\n",
            " layers    __pycache__\t\t    test.py\t       train.py\n"
          ],
          "name": "stdout"
        }
      ]
    },
    {
      "metadata": {
        "colab_type": "code",
        "id": "jf9ZJkN1zqi5",
        "outputId": "b92a86f9-15f1-4765-9a63-9cff95f5fe28",
        "colab": {
          "base_uri": "https://localhost:8080/",
          "height": 68
        }
      },
      "cell_type": "code",
      "source": [
        "!ls"
      ],
      "execution_count": 0,
      "outputs": [
        {
          "output_type": "stream",
          "text": [
            " data\t   output\t\t    ssd_person.ipynb   test_videos   utils\n",
            " eval.py  'person with hog.ipynb'   ssd.py\t       train.ipynb   weights\n",
            " layers    __pycache__\t\t    test.py\t       train.py\n"
          ],
          "name": "stdout"
        }
      ]
    },
    {
      "metadata": {
        "colab_type": "code",
        "id": "PxcYCLuSzqi8",
        "outputId": "103e2ffa-56e2-4c90-f8b6-8d3b07b149a8",
        "colab": {
          "base_uri": "https://localhost:8080/",
          "height": 68
        }
      },
      "cell_type": "code",
      "source": [
        "!ls"
      ],
      "execution_count": 0,
      "outputs": [
        {
          "output_type": "stream",
          "text": [
            " data\t   output\t\t    ssd_person.ipynb   test_videos   utils\n",
            " eval.py  'person with hog.ipynb'   ssd.py\t       train.ipynb   weights\n",
            " layers    __pycache__\t\t    test.py\t       train.py\n"
          ],
          "name": "stdout"
        }
      ]
    },
    {
      "metadata": {
        "colab_type": "code",
        "id": "uAU_BeBFzqi9",
        "outputId": "0f71ed5e-bd7b-4c9b-edbd-a7384aa21714",
        "colab": {
          "base_uri": "https://localhost:8080/",
          "height": 68
        }
      },
      "cell_type": "code",
      "source": [
        "!ls"
      ],
      "execution_count": 0,
      "outputs": [
        {
          "output_type": "stream",
          "text": [
            " data\t   output\t\t    ssd_person.ipynb   test_videos   utils\n",
            " eval.py  'person with hog.ipynb'   ssd.py\t       train.ipynb   weights\n",
            " layers    __pycache__\t\t    test.py\t       train.py\n"
          ],
          "name": "stdout"
        }
      ]
    },
    {
      "metadata": {
        "colab_type": "code",
        "id": "kqPX3_FQzqi-",
        "outputId": "aefc3999-0d07-46a0-da6c-dd8aab72f9a2",
        "colab": {
          "base_uri": "https://localhost:8080/",
          "height": 68
        }
      },
      "cell_type": "code",
      "source": [
        "!ls"
      ],
      "execution_count": 0,
      "outputs": [
        {
          "output_type": "stream",
          "text": [
            " data\t   output\t\t    ssd_person.ipynb   test_videos   utils\n",
            " eval.py  'person with hog.ipynb'   ssd.py\t       train.ipynb   weights\n",
            " layers    __pycache__\t\t    test.py\t       train.py\n"
          ],
          "name": "stdout"
        }
      ]
    },
    {
      "metadata": {
        "colab_type": "code",
        "id": "CLgwy0Z3zqi_",
        "outputId": "7be5647d-2ce5-4744-bebb-f37d8e0e7a81",
        "colab": {
          "base_uri": "https://localhost:8080/",
          "height": 68
        }
      },
      "cell_type": "code",
      "source": [
        "!ls"
      ],
      "execution_count": 0,
      "outputs": [
        {
          "output_type": "stream",
          "text": [
            " data\t   output\t\t    ssd_person.ipynb   test_videos   utils\n",
            " eval.py  'person with hog.ipynb'   ssd.py\t       train.ipynb   weights\n",
            " layers    __pycache__\t\t    test.py\t       train.py\n"
          ],
          "name": "stdout"
        }
      ]
    },
    {
      "metadata": {
        "colab_type": "code",
        "id": "33svVjQHzqjA",
        "outputId": "19535083-7ae3-4c1a-a93e-f7031f08def3",
        "colab": {
          "base_uri": "https://localhost:8080/",
          "height": 68
        }
      },
      "cell_type": "code",
      "source": [
        "\n",
        "!ls"
      ],
      "execution_count": 0,
      "outputs": [
        {
          "output_type": "stream",
          "text": [
            " data\t   output\t\t    ssd_person.ipynb   test_videos   utils\n",
            " eval.py  'person with hog.ipynb'   ssd.py\t       train.ipynb   weights\n",
            " layers    __pycache__\t\t    test.py\t       train.py\n"
          ],
          "name": "stdout"
        }
      ]
    },
    {
      "metadata": {
        "colab_type": "code",
        "id": "yQRDYkpw3Pzy",
        "outputId": "816e5acf-9120-4d78-a2fa-83051d9fd711",
        "colab": {
          "base_uri": "https://localhost:8080/",
          "height": 68
        }
      },
      "cell_type": "code",
      "source": [
        "!ls"
      ],
      "execution_count": 0,
      "outputs": [
        {
          "output_type": "stream",
          "text": [
            " data\t   output\t\t    ssd_person.ipynb   test_videos   utils\n",
            " eval.py  'person with hog.ipynb'   ssd.py\t       train.ipynb   weights\n",
            " layers    __pycache__\t\t    test.py\t       train.py\n"
          ],
          "name": "stdout"
        }
      ]
    },
    {
      "metadata": {
        "colab_type": "code",
        "id": "clK7vwvc3Pz5",
        "outputId": "490c1ad8-b75b-4973-c235-c023a2f48743",
        "colab": {
          "base_uri": "https://localhost:8080/",
          "height": 68
        }
      },
      "cell_type": "code",
      "source": [
        "!ls"
      ],
      "execution_count": 0,
      "outputs": [
        {
          "output_type": "stream",
          "text": [
            " data\t   output\t\t    ssd_person.ipynb   test_videos   utils\n",
            " eval.py  'person with hog.ipynb'   ssd.py\t       train.ipynb   weights\n",
            " layers    __pycache__\t\t    test.py\t       train.py\n"
          ],
          "name": "stdout"
        }
      ]
    },
    {
      "metadata": {
        "colab_type": "code",
        "id": "savA4wji3Pz8",
        "outputId": "9bb196e3-b970-4ff1-9f6b-93ba1c416889",
        "colab": {
          "base_uri": "https://localhost:8080/",
          "height": 68
        }
      },
      "cell_type": "code",
      "source": [
        "!ls"
      ],
      "execution_count": 0,
      "outputs": [
        {
          "output_type": "stream",
          "text": [
            " data\t   output\t\t    ssd_person.ipynb   test_videos   utils\n",
            " eval.py  'person with hog.ipynb'   ssd.py\t       train.ipynb   weights\n",
            " layers    __pycache__\t\t    test.py\t       train.py\n"
          ],
          "name": "stdout"
        }
      ]
    },
    {
      "metadata": {
        "colab_type": "code",
        "id": "sukZPPns3Pz_",
        "outputId": "10db2bc7-61d5-4ca0-bf06-b784f2084b41",
        "colab": {
          "base_uri": "https://localhost:8080/",
          "height": 68
        }
      },
      "cell_type": "code",
      "source": [
        "!ls"
      ],
      "execution_count": 0,
      "outputs": [
        {
          "output_type": "stream",
          "text": [
            " data\t   output\t\t    ssd_person.ipynb   test_videos   utils\n",
            " eval.py  'person with hog.ipynb'   ssd.py\t       train.ipynb   weights\n",
            " layers    __pycache__\t\t    test.py\t       train.py\n"
          ],
          "name": "stdout"
        }
      ]
    },
    {
      "metadata": {
        "colab_type": "code",
        "id": "lBmW8eX-3P0D",
        "outputId": "75d7cdb5-e124-4e70-f0f9-dc38e3088117",
        "colab": {
          "base_uri": "https://localhost:8080/",
          "height": 68
        }
      },
      "cell_type": "code",
      "source": [
        "!ls"
      ],
      "execution_count": 0,
      "outputs": [
        {
          "output_type": "stream",
          "text": [
            " data\t   output\t\t    ssd_person.ipynb   test_videos   utils\n",
            " eval.py  'person with hog.ipynb'   ssd.py\t       train.ipynb   weights\n",
            " layers    __pycache__\t\t    test.py\t       train.py\n"
          ],
          "name": "stdout"
        }
      ]
    },
    {
      "metadata": {
        "colab_type": "code",
        "id": "e92u2zWw3P0J",
        "outputId": "51ae9c62-4737-434a-e872-a207429a3d89",
        "colab": {
          "base_uri": "https://localhost:8080/",
          "height": 68
        }
      },
      "cell_type": "code",
      "source": [
        "!ls"
      ],
      "execution_count": 0,
      "outputs": [
        {
          "output_type": "stream",
          "text": [
            " data\t   output\t\t    ssd_person.ipynb   test_videos   utils\n",
            " eval.py  'person with hog.ipynb'   ssd.py\t       train.ipynb   weights\n",
            " layers    __pycache__\t\t    test.py\t       train.py\n"
          ],
          "name": "stdout"
        }
      ]
    },
    {
      "metadata": {
        "id": "6ugolemBz4CG",
        "colab_type": "code",
        "colab": {}
      },
      "cell_type": "code",
      "source": [
        ""
      ],
      "execution_count": 0,
      "outputs": []
    },
    {
      "metadata": {
        "colab_type": "code",
        "id": "r8s_r2xYFYXM",
        "outputId": "5629d553-67f6-407e-a22f-15d29094f824",
        "colab": {
          "base_uri": "https://localhost:8080/",
          "height": 68
        }
      },
      "cell_type": "code",
      "source": [
        "!ls"
      ],
      "execution_count": 0,
      "outputs": [
        {
          "output_type": "stream",
          "text": [
            " data\t   output\t\t    ssd_person.ipynb   test_videos   utils\n",
            " eval.py  'person with hog.ipynb'   ssd.py\t       train.ipynb   weights\n",
            " layers    __pycache__\t\t    test.py\t       train.py\n"
          ],
          "name": "stdout"
        }
      ]
    },
    {
      "metadata": {
        "colab_type": "code",
        "id": "XHrzOnnVFYXP",
        "outputId": "70e79ab5-3275-4ef8-d243-2ab3ac8d9fc9",
        "colab": {
          "base_uri": "https://localhost:8080/",
          "height": 68
        }
      },
      "cell_type": "code",
      "source": [
        "!ls"
      ],
      "execution_count": 0,
      "outputs": [
        {
          "output_type": "stream",
          "text": [
            " data\t   output\t\t    ssd_person.ipynb   test_videos   utils\n",
            " eval.py  'person with hog.ipynb'   ssd.py\t       train.ipynb   weights\n",
            " layers    __pycache__\t\t    test.py\t       train.py\n"
          ],
          "name": "stdout"
        }
      ]
    },
    {
      "metadata": {
        "colab_type": "code",
        "id": "djTxtrN1FYXR",
        "outputId": "41931878-1d1c-41ae-f87e-8153eedb0d1f",
        "colab": {
          "base_uri": "https://localhost:8080/",
          "height": 68
        }
      },
      "cell_type": "code",
      "source": [
        "!ls"
      ],
      "execution_count": 0,
      "outputs": [
        {
          "output_type": "stream",
          "text": [
            " data\t   output\t\t    ssd_person.ipynb   test_videos   utils\n",
            " eval.py  'person with hog.ipynb'   ssd.py\t       train.ipynb   weights\n",
            " layers    __pycache__\t\t    test.py\t       train.py\n"
          ],
          "name": "stdout"
        }
      ]
    },
    {
      "metadata": {
        "colab_type": "code",
        "id": "mJYQ9UlWFYXT",
        "outputId": "331a3683-97e1-4d44-aef7-e0d32d01e8ba",
        "colab": {
          "base_uri": "https://localhost:8080/",
          "height": 68
        }
      },
      "cell_type": "code",
      "source": [
        "!ls"
      ],
      "execution_count": 0,
      "outputs": [
        {
          "output_type": "stream",
          "text": [
            " data\t   output\t\t    ssd_person.ipynb   test_videos   utils\n",
            " eval.py  'person with hog.ipynb'   ssd.py\t       train.ipynb   weights\n",
            " layers    __pycache__\t\t    test.py\t       train.py\n"
          ],
          "name": "stdout"
        }
      ]
    },
    {
      "metadata": {
        "colab_type": "code",
        "id": "sPkglVrSFYXV",
        "outputId": "f41f1cc2-7924-4805-cd76-28b2e0f7df63",
        "colab": {
          "base_uri": "https://localhost:8080/",
          "height": 68
        }
      },
      "cell_type": "code",
      "source": [
        "!ls"
      ],
      "execution_count": 0,
      "outputs": [
        {
          "output_type": "stream",
          "text": [
            " data\t   output\t\t    ssd_person.ipynb   test_videos   utils\n",
            " eval.py  'person with hog.ipynb'   ssd.py\t       train.ipynb   weights\n",
            " layers    __pycache__\t\t    test.py\t       train.py\n"
          ],
          "name": "stdout"
        }
      ]
    },
    {
      "metadata": {
        "colab_type": "code",
        "id": "i1quRGNRFYXZ",
        "outputId": "d0c3592b-4784-4094-81ee-226f3c223998",
        "colab": {
          "base_uri": "https://localhost:8080/",
          "height": 68
        }
      },
      "cell_type": "code",
      "source": [
        "!ls"
      ],
      "execution_count": 0,
      "outputs": [
        {
          "output_type": "stream",
          "text": [
            " data\t   output\t\t    ssd_person.ipynb   test_videos   utils\n",
            " eval.py  'person with hog.ipynb'   ssd.py\t       train.ipynb   weights\n",
            " layers    __pycache__\t\t    test.py\t       train.py\n"
          ],
          "name": "stdout"
        }
      ]
    },
    {
      "metadata": {
        "colab_type": "code",
        "id": "TgO5jT_FFYXd",
        "outputId": "85f8605c-8b17-4678-fac8-deac57da6a24",
        "colab": {
          "base_uri": "https://localhost:8080/",
          "height": 68
        }
      },
      "cell_type": "code",
      "source": [
        "!ls"
      ],
      "execution_count": 0,
      "outputs": [
        {
          "output_type": "stream",
          "text": [
            " data\t   output\t\t    ssd_person.ipynb   test_videos   utils\n",
            " eval.py  'person with hog.ipynb'   ssd.py\t       train.ipynb   weights\n",
            " layers    __pycache__\t\t    test.py\t       train.py\n"
          ],
          "name": "stdout"
        }
      ]
    },
    {
      "metadata": {
        "colab_type": "code",
        "id": "iEoUhKrzFYXh",
        "outputId": "5e3d098f-fb17-40ea-febf-74574e97652d",
        "colab": {
          "base_uri": "https://localhost:8080/",
          "height": 68
        }
      },
      "cell_type": "code",
      "source": [
        "!ls"
      ],
      "execution_count": 0,
      "outputs": [
        {
          "output_type": "stream",
          "text": [
            " data\t   output\t\t    ssd_person.ipynb   test_videos   utils\n",
            " eval.py  'person with hog.ipynb'   ssd.py\t       train.ipynb   weights\n",
            " layers    __pycache__\t\t    test.py\t       train.py\n"
          ],
          "name": "stdout"
        }
      ]
    },
    {
      "metadata": {
        "colab_type": "code",
        "id": "eW38jxXsFYXi",
        "outputId": "9dee8291-4a32-4b1d-e5a1-9796518654b2",
        "colab": {
          "base_uri": "https://localhost:8080/",
          "height": 68
        }
      },
      "cell_type": "code",
      "source": [
        "!ls"
      ],
      "execution_count": 0,
      "outputs": [
        {
          "output_type": "stream",
          "text": [
            " data\t   output\t\t    ssd_person.ipynb   test_videos   utils\n",
            " eval.py  'person with hog.ipynb'   ssd.py\t       train.ipynb   weights\n",
            " layers    __pycache__\t\t    test.py\t       train.py\n"
          ],
          "name": "stdout"
        }
      ]
    },
    {
      "metadata": {
        "colab_type": "code",
        "id": "6MP7fua8FYXk",
        "colab": {}
      },
      "cell_type": "code",
      "source": [
        ""
      ],
      "execution_count": 0,
      "outputs": []
    },
    {
      "metadata": {
        "colab_type": "code",
        "id": "Tm1cZwg5FX8c",
        "outputId": "0b0a5535-4943-4d71-e1f7-9d7017fadadd",
        "colab": {
          "base_uri": "https://localhost:8080/",
          "height": 68
        }
      },
      "cell_type": "code",
      "source": [
        "!ls"
      ],
      "execution_count": 0,
      "outputs": [
        {
          "output_type": "stream",
          "text": [
            " data\t   output\t\t    ssd_person.ipynb   test_videos   utils\n",
            " eval.py  'person with hog.ipynb'   ssd.py\t       train.ipynb   weights\n",
            " layers    __pycache__\t\t    test.py\t       train.py\n"
          ],
          "name": "stdout"
        }
      ]
    },
    {
      "metadata": {
        "colab_type": "code",
        "id": "doTg9BY0FX8e",
        "outputId": "64657f04-2209-4106-b301-5029bbfee17a",
        "colab": {
          "base_uri": "https://localhost:8080/",
          "height": 68
        }
      },
      "cell_type": "code",
      "source": [
        "!ls"
      ],
      "execution_count": 0,
      "outputs": [
        {
          "output_type": "stream",
          "text": [
            " data\t   output\t\t    ssd_person.ipynb   test_videos   utils\n",
            " eval.py  'person with hog.ipynb'   ssd.py\t       train.ipynb   weights\n",
            " layers    __pycache__\t\t    test.py\t       train.py\n"
          ],
          "name": "stdout"
        }
      ]
    },
    {
      "metadata": {
        "colab_type": "code",
        "id": "WJhysp2RFX8h",
        "outputId": "34a7817a-afc6-4a61-ca5d-8f0e7b2fc0e4",
        "colab": {
          "base_uri": "https://localhost:8080/",
          "height": 68
        }
      },
      "cell_type": "code",
      "source": [
        "!ls"
      ],
      "execution_count": 0,
      "outputs": [
        {
          "output_type": "stream",
          "text": [
            " data\t   output\t\t    ssd_person.ipynb   test_videos   utils\n",
            " eval.py  'person with hog.ipynb'   ssd.py\t       train.ipynb   weights\n",
            " layers    __pycache__\t\t    test.py\t       train.py\n"
          ],
          "name": "stdout"
        }
      ]
    },
    {
      "metadata": {
        "colab_type": "code",
        "id": "e09gzTj4FX8k",
        "outputId": "c9223457-0438-4ae1-da75-93628d8312c1",
        "colab": {
          "base_uri": "https://localhost:8080/",
          "height": 68
        }
      },
      "cell_type": "code",
      "source": [
        "!ls"
      ],
      "execution_count": 0,
      "outputs": [
        {
          "output_type": "stream",
          "text": [
            " data\t   output\t\t    ssd_person.ipynb   test_videos   utils\n",
            " eval.py  'person with hog.ipynb'   ssd.py\t       train.ipynb   weights\n",
            " layers    __pycache__\t\t    test.py\t       train.py\n"
          ],
          "name": "stdout"
        }
      ]
    },
    {
      "metadata": {
        "colab_type": "code",
        "id": "s5L1s82-FX8n",
        "outputId": "e6989141-d408-4a39-a213-bdb0f5d94622",
        "colab": {
          "base_uri": "https://localhost:8080/",
          "height": 68
        }
      },
      "cell_type": "code",
      "source": [
        "!ls"
      ],
      "execution_count": 0,
      "outputs": [
        {
          "output_type": "stream",
          "text": [
            " data\t   output\t\t    ssd_person.ipynb   test_videos   utils\n",
            " eval.py  'person with hog.ipynb'   ssd.py\t       train.ipynb   weights\n",
            " layers    __pycache__\t\t    test.py\t       train.py\n"
          ],
          "name": "stdout"
        }
      ]
    },
    {
      "metadata": {
        "colab_type": "code",
        "id": "FPPmOWCZFX8s",
        "outputId": "eb81c6c5-dfc7-41be-d713-44f107a45cca",
        "colab": {
          "base_uri": "https://localhost:8080/",
          "height": 68
        }
      },
      "cell_type": "code",
      "source": [
        "!ls"
      ],
      "execution_count": 0,
      "outputs": [
        {
          "output_type": "stream",
          "text": [
            " data\t   output\t\t    ssd_person.ipynb   test_videos   utils\n",
            " eval.py  'person with hog.ipynb'   ssd.py\t       train.ipynb   weights\n",
            " layers    __pycache__\t\t    test.py\t       train.py\n"
          ],
          "name": "stdout"
        }
      ]
    },
    {
      "metadata": {
        "colab_type": "code",
        "id": "_dBb2tDCFX8v",
        "outputId": "47043ca2-4ea0-43df-c385-a2841c90f3de",
        "colab": {
          "base_uri": "https://localhost:8080/",
          "height": 68
        }
      },
      "cell_type": "code",
      "source": [
        "!ls"
      ],
      "execution_count": 0,
      "outputs": [
        {
          "output_type": "stream",
          "text": [
            " data\t   output\t\t    ssd_person.ipynb   test_videos   utils\n",
            " eval.py  'person with hog.ipynb'   ssd.py\t       train.ipynb   weights\n",
            " layers    __pycache__\t\t    test.py\t       train.py\n"
          ],
          "name": "stdout"
        }
      ]
    },
    {
      "metadata": {
        "colab_type": "code",
        "id": "j1ms98cIFX8x",
        "outputId": "915b110e-79cf-4183-a807-33550bd98571",
        "colab": {
          "base_uri": "https://localhost:8080/",
          "height": 68
        }
      },
      "cell_type": "code",
      "source": [
        "!ls"
      ],
      "execution_count": 0,
      "outputs": [
        {
          "output_type": "stream",
          "text": [
            " data\t   output\t\t    ssd_person.ipynb   test_videos   utils\n",
            " eval.py  'person with hog.ipynb'   ssd.py\t       train.ipynb   weights\n",
            " layers    __pycache__\t\t    test.py\t       train.py\n"
          ],
          "name": "stdout"
        }
      ]
    },
    {
      "metadata": {
        "colab_type": "code",
        "id": "1-vhoq9UFX8z",
        "outputId": "66a71730-e851-4739-fb29-d3a7d452e522",
        "colab": {
          "base_uri": "https://localhost:8080/",
          "height": 68
        }
      },
      "cell_type": "code",
      "source": [
        "!ls"
      ],
      "execution_count": 0,
      "outputs": [
        {
          "output_type": "stream",
          "text": [
            " data\t   output\t\t    ssd_person.ipynb   test_videos   utils\n",
            " eval.py  'person with hog.ipynb'   ssd.py\t       train.ipynb   weights\n",
            " layers    __pycache__\t\t    test.py\t       train.py\n"
          ],
          "name": "stdout"
        }
      ]
    },
    {
      "metadata": {
        "colab_type": "code",
        "id": "GXCssdlDFX82",
        "colab": {}
      },
      "cell_type": "code",
      "source": [
        ""
      ],
      "execution_count": 0,
      "outputs": []
    }
  ]
}